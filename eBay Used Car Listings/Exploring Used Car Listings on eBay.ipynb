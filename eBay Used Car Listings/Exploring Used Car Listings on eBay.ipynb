{
 "cells": [
  {
   "cell_type": "markdown",
   "metadata": {},
   "source": [
    "# Exploring Used Car Listings on eBay\n",
    "\n",
    "This project explores used car listings from the [German eBay](https://www.ebay.de) website with a special focus on data cleaning. The original dataset, which is available on [Kaggle](https://www.kaggle.com/orgesleka/used-cars-database/data) has been modified by [Dataquest](https://www.dataquest.io) reducing the entries from 370,000 to around 50,000.\n",
    "\n",
    "Let's start by reading and examining the file content."
   ]
  },
  {
   "cell_type": "code",
   "execution_count": 1,
   "metadata": {},
   "outputs": [
    {
     "name": "stdout",
     "output_type": "stream",
     "text": [
      "<class 'pandas.core.frame.DataFrame'>\n",
      "RangeIndex: 50000 entries, 0 to 49999\n",
      "Data columns (total 20 columns):\n",
      " #   Column               Non-Null Count  Dtype \n",
      "---  ------               --------------  ----- \n",
      " 0   dateCrawled          50000 non-null  object\n",
      " 1   name                 50000 non-null  object\n",
      " 2   seller               50000 non-null  object\n",
      " 3   offerType            50000 non-null  object\n",
      " 4   price                50000 non-null  object\n",
      " 5   abtest               50000 non-null  object\n",
      " 6   vehicleType          44905 non-null  object\n",
      " 7   yearOfRegistration   50000 non-null  int64 \n",
      " 8   gearbox              47320 non-null  object\n",
      " 9   powerPS              50000 non-null  int64 \n",
      " 10  model                47242 non-null  object\n",
      " 11  odometer             50000 non-null  object\n",
      " 12  monthOfRegistration  50000 non-null  int64 \n",
      " 13  fuelType             45518 non-null  object\n",
      " 14  brand                50000 non-null  object\n",
      " 15  notRepairedDamage    40171 non-null  object\n",
      " 16  dateCreated          50000 non-null  object\n",
      " 17  nrOfPictures         50000 non-null  int64 \n",
      " 18  postalCode           50000 non-null  int64 \n",
      " 19  lastSeen             50000 non-null  object\n",
      "dtypes: int64(5), object(15)\n",
      "memory usage: 7.6+ MB\n"
     ]
    }
   ],
   "source": [
    "import numpy as np\n",
    "import pandas as pd\n",
    "\n",
    "autos = pd.read_csv('autos.csv', encoding='Latin-1')\n",
    "autos.info()"
   ]
  },
  {
   "cell_type": "code",
   "execution_count": 2,
   "metadata": {},
   "outputs": [
    {
     "data": {
      "text/html": [
       "<div>\n",
       "<style scoped>\n",
       "    .dataframe tbody tr th:only-of-type {\n",
       "        vertical-align: middle;\n",
       "    }\n",
       "\n",
       "    .dataframe tbody tr th {\n",
       "        vertical-align: top;\n",
       "    }\n",
       "\n",
       "    .dataframe thead th {\n",
       "        text-align: right;\n",
       "    }\n",
       "</style>\n",
       "<table border=\"1\" class=\"dataframe\">\n",
       "  <thead>\n",
       "    <tr style=\"text-align: right;\">\n",
       "      <th></th>\n",
       "      <th>dateCrawled</th>\n",
       "      <th>name</th>\n",
       "      <th>seller</th>\n",
       "      <th>offerType</th>\n",
       "      <th>price</th>\n",
       "      <th>abtest</th>\n",
       "      <th>vehicleType</th>\n",
       "      <th>yearOfRegistration</th>\n",
       "      <th>gearbox</th>\n",
       "      <th>powerPS</th>\n",
       "      <th>model</th>\n",
       "      <th>odometer</th>\n",
       "      <th>monthOfRegistration</th>\n",
       "      <th>fuelType</th>\n",
       "      <th>brand</th>\n",
       "      <th>notRepairedDamage</th>\n",
       "      <th>dateCreated</th>\n",
       "      <th>nrOfPictures</th>\n",
       "      <th>postalCode</th>\n",
       "      <th>lastSeen</th>\n",
       "    </tr>\n",
       "  </thead>\n",
       "  <tbody>\n",
       "    <tr>\n",
       "      <th>0</th>\n",
       "      <td>2016-03-26 17:47:46</td>\n",
       "      <td>Peugeot_807_160_NAVTECH_ON_BOARD</td>\n",
       "      <td>privat</td>\n",
       "      <td>Angebot</td>\n",
       "      <td>$5,000</td>\n",
       "      <td>control</td>\n",
       "      <td>bus</td>\n",
       "      <td>2004</td>\n",
       "      <td>manuell</td>\n",
       "      <td>158</td>\n",
       "      <td>andere</td>\n",
       "      <td>150,000km</td>\n",
       "      <td>3</td>\n",
       "      <td>lpg</td>\n",
       "      <td>peugeot</td>\n",
       "      <td>nein</td>\n",
       "      <td>2016-03-26 00:00:00</td>\n",
       "      <td>0</td>\n",
       "      <td>79588</td>\n",
       "      <td>2016-04-06 06:45:54</td>\n",
       "    </tr>\n",
       "    <tr>\n",
       "      <th>1</th>\n",
       "      <td>2016-04-04 13:38:56</td>\n",
       "      <td>BMW_740i_4_4_Liter_HAMANN_UMBAU_Mega_Optik</td>\n",
       "      <td>privat</td>\n",
       "      <td>Angebot</td>\n",
       "      <td>$8,500</td>\n",
       "      <td>control</td>\n",
       "      <td>limousine</td>\n",
       "      <td>1997</td>\n",
       "      <td>automatik</td>\n",
       "      <td>286</td>\n",
       "      <td>7er</td>\n",
       "      <td>150,000km</td>\n",
       "      <td>6</td>\n",
       "      <td>benzin</td>\n",
       "      <td>bmw</td>\n",
       "      <td>nein</td>\n",
       "      <td>2016-04-04 00:00:00</td>\n",
       "      <td>0</td>\n",
       "      <td>71034</td>\n",
       "      <td>2016-04-06 14:45:08</td>\n",
       "    </tr>\n",
       "    <tr>\n",
       "      <th>2</th>\n",
       "      <td>2016-03-26 18:57:24</td>\n",
       "      <td>Volkswagen_Golf_1.6_United</td>\n",
       "      <td>privat</td>\n",
       "      <td>Angebot</td>\n",
       "      <td>$8,990</td>\n",
       "      <td>test</td>\n",
       "      <td>limousine</td>\n",
       "      <td>2009</td>\n",
       "      <td>manuell</td>\n",
       "      <td>102</td>\n",
       "      <td>golf</td>\n",
       "      <td>70,000km</td>\n",
       "      <td>7</td>\n",
       "      <td>benzin</td>\n",
       "      <td>volkswagen</td>\n",
       "      <td>nein</td>\n",
       "      <td>2016-03-26 00:00:00</td>\n",
       "      <td>0</td>\n",
       "      <td>35394</td>\n",
       "      <td>2016-04-06 20:15:37</td>\n",
       "    </tr>\n",
       "    <tr>\n",
       "      <th>3</th>\n",
       "      <td>2016-03-12 16:58:10</td>\n",
       "      <td>Smart_smart_fortwo_coupe_softouch/F1/Klima/Pan...</td>\n",
       "      <td>privat</td>\n",
       "      <td>Angebot</td>\n",
       "      <td>$4,350</td>\n",
       "      <td>control</td>\n",
       "      <td>kleinwagen</td>\n",
       "      <td>2007</td>\n",
       "      <td>automatik</td>\n",
       "      <td>71</td>\n",
       "      <td>fortwo</td>\n",
       "      <td>70,000km</td>\n",
       "      <td>6</td>\n",
       "      <td>benzin</td>\n",
       "      <td>smart</td>\n",
       "      <td>nein</td>\n",
       "      <td>2016-03-12 00:00:00</td>\n",
       "      <td>0</td>\n",
       "      <td>33729</td>\n",
       "      <td>2016-03-15 03:16:28</td>\n",
       "    </tr>\n",
       "    <tr>\n",
       "      <th>4</th>\n",
       "      <td>2016-04-01 14:38:50</td>\n",
       "      <td>Ford_Focus_1_6_Benzin_TÜV_neu_ist_sehr_gepfleg...</td>\n",
       "      <td>privat</td>\n",
       "      <td>Angebot</td>\n",
       "      <td>$1,350</td>\n",
       "      <td>test</td>\n",
       "      <td>kombi</td>\n",
       "      <td>2003</td>\n",
       "      <td>manuell</td>\n",
       "      <td>0</td>\n",
       "      <td>focus</td>\n",
       "      <td>150,000km</td>\n",
       "      <td>7</td>\n",
       "      <td>benzin</td>\n",
       "      <td>ford</td>\n",
       "      <td>nein</td>\n",
       "      <td>2016-04-01 00:00:00</td>\n",
       "      <td>0</td>\n",
       "      <td>39218</td>\n",
       "      <td>2016-04-01 14:38:50</td>\n",
       "    </tr>\n",
       "  </tbody>\n",
       "</table>\n",
       "</div>"
      ],
      "text/plain": [
       "           dateCrawled                                               name  \\\n",
       "0  2016-03-26 17:47:46                   Peugeot_807_160_NAVTECH_ON_BOARD   \n",
       "1  2016-04-04 13:38:56         BMW_740i_4_4_Liter_HAMANN_UMBAU_Mega_Optik   \n",
       "2  2016-03-26 18:57:24                         Volkswagen_Golf_1.6_United   \n",
       "3  2016-03-12 16:58:10  Smart_smart_fortwo_coupe_softouch/F1/Klima/Pan...   \n",
       "4  2016-04-01 14:38:50  Ford_Focus_1_6_Benzin_TÜV_neu_ist_sehr_gepfleg...   \n",
       "\n",
       "   seller offerType   price   abtest vehicleType  yearOfRegistration  \\\n",
       "0  privat   Angebot  $5,000  control         bus                2004   \n",
       "1  privat   Angebot  $8,500  control   limousine                1997   \n",
       "2  privat   Angebot  $8,990     test   limousine                2009   \n",
       "3  privat   Angebot  $4,350  control  kleinwagen                2007   \n",
       "4  privat   Angebot  $1,350     test       kombi                2003   \n",
       "\n",
       "     gearbox  powerPS   model   odometer  monthOfRegistration fuelType  \\\n",
       "0    manuell      158  andere  150,000km                    3      lpg   \n",
       "1  automatik      286     7er  150,000km                    6   benzin   \n",
       "2    manuell      102    golf   70,000km                    7   benzin   \n",
       "3  automatik       71  fortwo   70,000km                    6   benzin   \n",
       "4    manuell        0   focus  150,000km                    7   benzin   \n",
       "\n",
       "        brand notRepairedDamage          dateCreated  nrOfPictures  \\\n",
       "0     peugeot              nein  2016-03-26 00:00:00             0   \n",
       "1         bmw              nein  2016-04-04 00:00:00             0   \n",
       "2  volkswagen              nein  2016-03-26 00:00:00             0   \n",
       "3       smart              nein  2016-03-12 00:00:00             0   \n",
       "4        ford              nein  2016-04-01 00:00:00             0   \n",
       "\n",
       "   postalCode             lastSeen  \n",
       "0       79588  2016-04-06 06:45:54  \n",
       "1       71034  2016-04-06 14:45:08  \n",
       "2       35394  2016-04-06 20:15:37  \n",
       "3       33729  2016-03-15 03:16:28  \n",
       "4       39218  2016-04-01 14:38:50  "
      ]
     },
     "execution_count": 2,
     "metadata": {},
     "output_type": "execute_result"
    }
   ],
   "source": [
    "autos.head()"
   ]
  },
  {
   "cell_type": "code",
   "execution_count": null,
   "metadata": {},
   "outputs": [
    {
     "data": {
      "text/html": [
       "<div>\n",
       "<style scoped>\n",
       "    .dataframe tbody tr th:only-of-type {\n",
       "        vertical-align: middle;\n",
       "    }\n",
       "\n",
       "    .dataframe tbody tr th {\n",
       "        vertical-align: top;\n",
       "    }\n",
       "\n",
       "    .dataframe thead th {\n",
       "        text-align: right;\n",
       "    }\n",
       "</style>\n",
       "<table border=\"1\" class=\"dataframe\">\n",
       "  <thead>\n",
       "    <tr style=\"text-align: right;\">\n",
       "      <th></th>\n",
       "      <th>dateCrawled</th>\n",
       "      <th>name</th>\n",
       "      <th>seller</th>\n",
       "      <th>offerType</th>\n",
       "      <th>price</th>\n",
       "      <th>abtest</th>\n",
       "      <th>vehicleType</th>\n",
       "      <th>yearOfRegistration</th>\n",
       "      <th>gearbox</th>\n",
       "      <th>powerPS</th>\n",
       "      <th>model</th>\n",
       "      <th>odometer</th>\n",
       "      <th>monthOfRegistration</th>\n",
       "      <th>fuelType</th>\n",
       "      <th>brand</th>\n",
       "      <th>notRepairedDamage</th>\n",
       "      <th>dateCreated</th>\n",
       "      <th>nrOfPictures</th>\n",
       "      <th>postalCode</th>\n",
       "      <th>lastSeen</th>\n",
       "    </tr>\n",
       "  </thead>\n",
       "  <tbody>\n",
       "    <tr>\n",
       "      <th>49995</th>\n",
       "      <td>2016-03-27 14:38:19</td>\n",
       "      <td>Audi_Q5_3.0_TDI_qu._S_tr.__Navi__Panorama__Xenon</td>\n",
       "      <td>privat</td>\n",
       "      <td>Angebot</td>\n",
       "      <td>$24,900</td>\n",
       "      <td>control</td>\n",
       "      <td>limousine</td>\n",
       "      <td>2011</td>\n",
       "      <td>automatik</td>\n",
       "      <td>239</td>\n",
       "      <td>q5</td>\n",
       "      <td>100,000km</td>\n",
       "      <td>1</td>\n",
       "      <td>diesel</td>\n",
       "      <td>audi</td>\n",
       "      <td>nein</td>\n",
       "      <td>2016-03-27 00:00:00</td>\n",
       "      <td>0</td>\n",
       "      <td>82131</td>\n",
       "      <td>2016-04-01 13:47:40</td>\n",
       "    </tr>\n",
       "    <tr>\n",
       "      <th>49996</th>\n",
       "      <td>2016-03-28 10:50:25</td>\n",
       "      <td>Opel_Astra_F_Cabrio_Bertone_Edition___TÜV_neu+...</td>\n",
       "      <td>privat</td>\n",
       "      <td>Angebot</td>\n",
       "      <td>$1,980</td>\n",
       "      <td>control</td>\n",
       "      <td>cabrio</td>\n",
       "      <td>1996</td>\n",
       "      <td>manuell</td>\n",
       "      <td>75</td>\n",
       "      <td>astra</td>\n",
       "      <td>150,000km</td>\n",
       "      <td>5</td>\n",
       "      <td>benzin</td>\n",
       "      <td>opel</td>\n",
       "      <td>nein</td>\n",
       "      <td>2016-03-28 00:00:00</td>\n",
       "      <td>0</td>\n",
       "      <td>44807</td>\n",
       "      <td>2016-04-02 14:18:02</td>\n",
       "    </tr>\n",
       "    <tr>\n",
       "      <th>49997</th>\n",
       "      <td>2016-04-02 14:44:48</td>\n",
       "      <td>Fiat_500_C_1.2_Dualogic_Lounge</td>\n",
       "      <td>privat</td>\n",
       "      <td>Angebot</td>\n",
       "      <td>$13,200</td>\n",
       "      <td>test</td>\n",
       "      <td>cabrio</td>\n",
       "      <td>2014</td>\n",
       "      <td>automatik</td>\n",
       "      <td>69</td>\n",
       "      <td>500</td>\n",
       "      <td>5,000km</td>\n",
       "      <td>11</td>\n",
       "      <td>benzin</td>\n",
       "      <td>fiat</td>\n",
       "      <td>nein</td>\n",
       "      <td>2016-04-02 00:00:00</td>\n",
       "      <td>0</td>\n",
       "      <td>73430</td>\n",
       "      <td>2016-04-04 11:47:27</td>\n",
       "    </tr>\n",
       "    <tr>\n",
       "      <th>49998</th>\n",
       "      <td>2016-03-08 19:25:42</td>\n",
       "      <td>Audi_A3_2.0_TDI_Sportback_Ambition</td>\n",
       "      <td>privat</td>\n",
       "      <td>Angebot</td>\n",
       "      <td>$22,900</td>\n",
       "      <td>control</td>\n",
       "      <td>kombi</td>\n",
       "      <td>2013</td>\n",
       "      <td>manuell</td>\n",
       "      <td>150</td>\n",
       "      <td>a3</td>\n",
       "      <td>40,000km</td>\n",
       "      <td>11</td>\n",
       "      <td>diesel</td>\n",
       "      <td>audi</td>\n",
       "      <td>nein</td>\n",
       "      <td>2016-03-08 00:00:00</td>\n",
       "      <td>0</td>\n",
       "      <td>35683</td>\n",
       "      <td>2016-04-05 16:45:07</td>\n",
       "    </tr>\n",
       "    <tr>\n",
       "      <th>49999</th>\n",
       "      <td>2016-03-14 00:42:12</td>\n",
       "      <td>Opel_Vectra_1.6_16V</td>\n",
       "      <td>privat</td>\n",
       "      <td>Angebot</td>\n",
       "      <td>$1,250</td>\n",
       "      <td>control</td>\n",
       "      <td>limousine</td>\n",
       "      <td>1996</td>\n",
       "      <td>manuell</td>\n",
       "      <td>101</td>\n",
       "      <td>vectra</td>\n",
       "      <td>150,000km</td>\n",
       "      <td>1</td>\n",
       "      <td>benzin</td>\n",
       "      <td>opel</td>\n",
       "      <td>nein</td>\n",
       "      <td>2016-03-13 00:00:00</td>\n",
       "      <td>0</td>\n",
       "      <td>45897</td>\n",
       "      <td>2016-04-06 21:18:48</td>\n",
       "    </tr>\n",
       "  </tbody>\n",
       "</table>\n",
       "</div>"
      ],
      "text/plain": [
       "               dateCrawled                                               name  \\\n",
       "49995  2016-03-27 14:38:19   Audi_Q5_3.0_TDI_qu._S_tr.__Navi__Panorama__Xenon   \n",
       "49996  2016-03-28 10:50:25  Opel_Astra_F_Cabrio_Bertone_Edition___TÜV_neu+...   \n",
       "49997  2016-04-02 14:44:48                     Fiat_500_C_1.2_Dualogic_Lounge   \n",
       "49998  2016-03-08 19:25:42                 Audi_A3_2.0_TDI_Sportback_Ambition   \n",
       "49999  2016-03-14 00:42:12                                Opel_Vectra_1.6_16V   \n",
       "\n",
       "       seller offerType    price   abtest vehicleType  yearOfRegistration  \\\n",
       "49995  privat   Angebot  $24,900  control   limousine                2011   \n",
       "49996  privat   Angebot   $1,980  control      cabrio                1996   \n",
       "49997  privat   Angebot  $13,200     test      cabrio                2014   \n",
       "49998  privat   Angebot  $22,900  control       kombi                2013   \n",
       "49999  privat   Angebot   $1,250  control   limousine                1996   \n",
       "\n",
       "         gearbox  powerPS   model   odometer  monthOfRegistration fuelType  \\\n",
       "49995  automatik      239      q5  100,000km                    1   diesel   \n",
       "49996    manuell       75   astra  150,000km                    5   benzin   \n",
       "49997  automatik       69     500    5,000km                   11   benzin   \n",
       "49998    manuell      150      a3   40,000km                   11   diesel   \n",
       "49999    manuell      101  vectra  150,000km                    1   benzin   \n",
       "\n",
       "      brand notRepairedDamage          dateCreated  nrOfPictures  postalCode  \\\n",
       "49995  audi              nein  2016-03-27 00:00:00             0       82131   \n",
       "49996  opel              nein  2016-03-28 00:00:00             0       44807   \n",
       "49997  fiat              nein  2016-04-02 00:00:00             0       73430   \n",
       "49998  audi              nein  2016-03-08 00:00:00             0       35683   \n",
       "49999  opel              nein  2016-03-13 00:00:00             0       45897   \n",
       "\n",
       "                  lastSeen  \n",
       "49995  2016-04-01 13:47:40  \n",
       "49996  2016-04-02 14:18:02  \n",
       "49997  2016-04-04 11:47:27  \n",
       "49998  2016-04-05 16:45:07  \n",
       "49999  2016-04-06 21:18:48  "
      ]
     },
     "execution_count": 3,
     "metadata": {},
     "output_type": "execute_result"
    }
   ],
   "source": [
    "autos.tail()"
   ]
  },
  {
   "cell_type": "markdown",
   "metadata": {},
   "source": [
    "We observe that the dataset comprises 50,000 rows and 20 columns. Five of the columns contain null values with two of them having around 10% of their values as null and one of them around 20%. We also see that 15 out of 20 columns stored as string, while the other 5 as integer.\n",
    "\n",
    "The column names in the dataset are entered in camel case, which we will change to snake case following Python conventions. In addition, we will modify some of the column names to improve clarity. "
   ]
  },
  {
   "cell_type": "code",
   "execution_count": null,
   "metadata": {},
   "outputs": [],
   "source": [
    "autos.columns"
   ]
  },
  {
   "cell_type": "code",
   "execution_count": null,
   "metadata": {},
   "outputs": [],
   "source": [
    "autos.rename({'dateCrawled': 'date_crawled', 'offerType': 'offer_type', 'abtest': 'ab_test', 'vehicleType': 'vehicle_type', 'yearOfRegistration': 'registration_year', 'powerPS': 'power_ps', 'monthOfRegistration': 'registration_month', 'fuelType': 'fuel_type', 'notRepairedDamage': 'unrepaired_damage', 'dateCreated': 'ad_created', 'nrOfPictures': 'num_photos', 'postalCode': 'postal_code', 'lastSeen': 'last_seen'}, axis=1, inplace=True)\n",
    "\n",
    "autos.columns"
   ]
  },
  {
   "cell_type": "markdown",
   "metadata": {},
   "source": [
    "## Preliminary Exploration and Data Cleaning\n",
    "\n",
    "Let's begin with descriptive statistics on the dataset."
   ]
  },
  {
   "cell_type": "code",
   "execution_count": null,
   "metadata": {},
   "outputs": [],
   "source": [
    "autos.describe(include='all')"
   ]
  },
  {
   "cell_type": "markdown",
   "metadata": {},
   "source": [
    "At first glance we notice that there are some columns that almost entirely consist of a single value, as is evident from the `frequency` row. Namely, the `seller` and `offer_type` columns contain a single value for all but one of the entries. Since these columns do not provide any meaninful inssight given the lack of information, we can remove them from our dataset.\n",
    "\n",
    "It also appears that the `num_photos` column comprises the value zero for all entries. Let's confirm this by counting all unique values in the column."
   ]
  },
  {
   "cell_type": "code",
   "execution_count": null,
   "metadata": {},
   "outputs": [],
   "source": [
    "autos['num_photos'].value_counts()"
   ]
  },
  {
   "cell_type": "markdown",
   "metadata": {},
   "source": [
    "It is clear that all rows for this column consists of zeros, so we can remove `num_photos` column as well as the `seller` and `offer_type` columns."
   ]
  },
  {
   "cell_type": "code",
   "execution_count": null,
   "metadata": {},
   "outputs": [],
   "source": [
    "autos = autos.drop(['seller', 'offer_type', 'num_photos'], axis=1)"
   ]
  },
  {
   "cell_type": "markdown",
   "metadata": {},
   "source": [
    "Further examining the columns, we see that there are two columns (`price` and `odometer`) that are numeric in nature but are stored as strings, which would prevent us from using numeric operations on them. Thus, we will first clean the columns to contain only numeric information and then convert them to integer data types."
   ]
  },
  {
   "cell_type": "code",
   "execution_count": null,
   "metadata": {},
   "outputs": [],
   "source": [
    "autos['price'] = autos['price'].str.replace('$','').str.replace(',','').astype(int)\n",
    "autos['price'].head()"
   ]
  },
  {
   "cell_type": "code",
   "execution_count": null,
   "metadata": {},
   "outputs": [],
   "source": [
    "autos['odometer'] = autos['odometer'].str.replace('km','').str.replace(',',\"\").astype(int)\n",
    "autos['odometer'].head()"
   ]
  },
  {
   "cell_type": "markdown",
   "metadata": {},
   "source": [
    "Finally, let's change the column name for `odometer` to store the unit information that we just removed from our entries."
   ]
  },
  {
   "cell_type": "code",
   "execution_count": null,
   "metadata": {},
   "outputs": [],
   "source": [
    "autos.rename({'odometer': 'odometer_km'}, axis=1, inplace=True)\n",
    "autos.columns[9]"
   ]
  },
  {
   "cell_type": "markdown",
   "metadata": {},
   "source": [
    "## Further Exploration of Registration Year, Price and Odometer\n",
    "\n",
    "Let's continue our examination with measure of central tendencies for the columns. The minimum and maximum values for `registration_year` column are clearly incorrect with values of 1000 and 9999. We can investigate each end of the spectrum for this column before deciding on how to deal with this issue."
   ]
  },
  {
   "cell_type": "code",
   "execution_count": null,
   "metadata": {},
   "outputs": [],
   "source": [
    "autos.describe(include='all')[4:]"
   ]
  },
  {
   "cell_type": "code",
   "execution_count": null,
   "metadata": {},
   "outputs": [],
   "source": [
    "autos['registration_year'].sort_values().head(20)"
   ]
  },
  {
   "cell_type": "code",
   "execution_count": null,
   "metadata": {},
   "outputs": [],
   "source": [
    "autos['registration_year'].sort_values().tail(20)"
   ]
  },
  {
   "cell_type": "markdown",
   "metadata": {},
   "source": [
    "We see that there are other values that are incorrect on both ends and need to be cleaned. One approach is to remove all of these rows. Given there are 50,000 data points removing a couple dozen entries would not likely skew the data, but perhaps we can consider replacing the average of all values with these outliers, which would enable us to keep the entries.\n",
    "\n",
    "In order to achieve this goal, first we should determine the mean value excluding the outliers."
   ]
  },
  {
   "cell_type": "code",
   "execution_count": null,
   "metadata": {},
   "outputs": [],
   "source": [
    "reg_year_list = []\n",
    "for reg_year in autos['registration_year']:\n",
    "    if reg_year > 1900 and reg_year < 2020:\n",
    "        reg_year_list.append(reg_year)\n",
    "\n",
    "reg_year_series = pd.Series(reg_year_list)\n",
    "reg_year_avg = round(reg_year_series.mean())\n",
    "reg_year_avg"
   ]
  },
  {
   "cell_type": "markdown",
   "metadata": {},
   "source": [
    "Now we can replace the outliers with the mean value."
   ]
  },
  {
   "cell_type": "code",
   "execution_count": null,
   "metadata": {},
   "outputs": [],
   "source": [
    "for index, reg_year in autos['registration_year'].iteritems():\n",
    "    if reg_year < 1900 or reg_year > 2019:\n",
    "        autos['registration_year'][index] = reg_year_avg\n",
    "        \n",
    "autos['registration_year'].describe()"
   ]
  },
  {
   "cell_type": "markdown",
   "metadata": {},
   "source": [
    "Let's move on to a closer look at the `price` column."
   ]
  },
  {
   "cell_type": "code",
   "execution_count": null,
   "metadata": {},
   "outputs": [],
   "source": [
    "print(round(autos[\"price\"].describe()).astype(int))\n",
    "print(autos[\"price\"].unique().shape)"
   ]
  },
  {
   "cell_type": "markdown",
   "metadata": {},
   "source": [
    "The column contains 2,357 unique values, which is not unreasonable for 50,000 entries as sellers tend to pick either rounded values (ie. 12,000 as opposed to 12,351) or follow psychological pricing (11,990, 11,999, etc.). However, when we look at the both ends of the spectrum, we see zero for the minimum and almost 100 million for the maximum. Let's investigate the top and bottom values to get a fuller picture."
   ]
  },
  {
   "cell_type": "code",
   "execution_count": null,
   "metadata": {},
   "outputs": [],
   "source": [
    "autos['price'].value_counts().sort_index()"
   ]
  },
  {
   "cell_type": "markdown",
   "metadata": {},
   "source": [
    "On the lower end we have 1,421 entries with a price of zero. This is a rather high value for 50,000 entries, which accounts for close to 3% of entries. It would be interesting to see the most common (and least common prices) for all entries."
   ]
  },
  {
   "cell_type": "code",
   "execution_count": null,
   "metadata": {},
   "outputs": [],
   "source": [
    "autos['price'].value_counts().sort_values()"
   ]
  },
  {
   "cell_type": "markdown",
   "metadata": {},
   "source": [
    "Here we see that listings with cars for $0 constitutes the most common price. One strategy we could adopt is to simply replace the value of zero with the average price, but modifying 1,421 entries this way would skew our data towards the mean (affecting standard deviation), so it would be preferrable to remove the entries instead.\n",
    "\n",
    "Next, we see 156 listings with a price of \\\\$1. Since eBay is an auction site it is not uncommon for bids to start at $1, so we will keep these entries as we wouldn't want to alter or remove data too haphazardly.\n",
    "\n",
    "On the other end of the spectrum we have a listing for almost 100 million dollars and at least seven other listings in ten figures. Let's take a look the listing count with highest prices."
   ]
  },
  {
   "cell_type": "code",
   "execution_count": null,
   "metadata": {},
   "outputs": [],
   "source": [
    "autos['price'].value_counts().sort_index(ascending=False).head(20)"
   ]
  },
  {
   "cell_type": "markdown",
   "metadata": {},
   "source": [
    "Given that the [most expensive car ever sold](https://www.forbes.com/sites/guymartin/2019/12/11/the-most-expensive-car-ever-sold-how-the-sale-of-a-44-million-ferrari-250gto-wound-up-in-a-london-court/#c5d4da42de80) had a price of around 44 million dollars, we could most certainly rule out the listing with 100 million dollar price tag. Furthermore, since it would be highly unusual for a car priced in the range of millions to be listed on eBay and since a [list of cars sold with a price over 4 million dollars](https://en.wikipedia.org/wiki/List_of_most_expensive_cars_sold_at_auction#Absolute_record) does not include any reference to eBay, let alone a specific one month period on the German eBay website, we can remove values over one million with high confidence.\n",
    "\n",
    "Looking at the list above for values below \\\\$1,000,000, we observe a large gap between 350,000 and 999,990. The values just below 350,000 are spread out relatively evenly without any large gaps, so it is a reasonable point to set as our maximum."
   ]
  },
  {
   "cell_type": "code",
   "execution_count": null,
   "metadata": {},
   "outputs": [],
   "source": [
    "autos = autos[autos['price'].between(1, 350001)]\n",
    "autos['price'].describe()"
   ]
  },
  {
   "cell_type": "markdown",
   "metadata": {},
   "source": [
    "Finally, let's take a look at the `odometer` column to determine if there are any outliers."
   ]
  },
  {
   "cell_type": "code",
   "execution_count": null,
   "metadata": {},
   "outputs": [],
   "source": [
    "print(autos['odometer_km'].value_counts())\n",
    "autos['odometer_km'].unique().size"
   ]
  },
  {
   "cell_type": "markdown",
   "metadata": {},
   "source": [
    "This field contains only thirteen unique values all of which consist of rounded numbers. Given the low likelihood of this happening with 50,000 data points, it appears that the values are provided to sellers as pre-set options when they are filling out the form for their post. There is nothing that stands out, perhaps except that the values are quite heavily skewed towards the high mileage vehicles. Let's compare the count of top value for mileage (150000) with the count of all of the other entries."
   ]
  },
  {
   "cell_type": "code",
   "execution_count": null,
   "metadata": {},
   "outputs": [],
   "source": [
    "autos_150000km = autos.loc[autos['odometer_km'] == 150000, 'odometer_km'].value_counts().sum()\n",
    "autos_other_mileage = autos.loc[autos['odometer_km'] != 150000, 'odometer_km'].value_counts().sum()\n",
    "print('Odometer with 150,000km: ', autos_150000km)\n",
    "print('Odometer with other values: ', autos_other_mileage)"
   ]
  },
  {
   "cell_type": "markdown",
   "metadata": {},
   "source": [
    "We see that there are more cars listed with a mileage of 150,000km than all other mileages combined. Still this is not particularly surprising as people tend to sell their cars after using them for a relatively extended period of time. Also, cars with lower mileage tend to be more expensive, so the top-range cars with low mileage are more likely to be sold through dealers than online posts which tend to be somewhat riskier.\n",
    "\n",
    "## Examination of the Date Columns\n",
    "\n",
    "Five of the twenty columns in our dataset contain date information. Two of these columns (`registration_year` and `registration_month`) have partial date information while the other three contain full date information (`date_crawled`, `ad_created`, `last_seen`).\n",
    "\n",
    "We have already discussed the `registration_year` column. Now let's take a look at the other partial date column of `registration_month`."
   ]
  },
  {
   "cell_type": "code",
   "execution_count": null,
   "metadata": {},
   "outputs": [],
   "source": [
    "autos['registration_month'].describe()"
   ]
  },
  {
   "cell_type": "markdown",
   "metadata": {},
   "source": [
    "The quartile information is suprisingly very uniform. One anomaly here is the minimum value of zero, which does not correspond to a month and presumably is a place holder for 'not available'. We could consider removing these from our dataset but since registration month is not a particularly useful metric, we could also opt to keep them as removing these entries would result in a loss of other potentially important information.\n",
    "\n",
    "The mean indicates a sight tendency towards the first half of the year, probably due to inclusion of zero, and the standard deviation indicates that 68% of all the months in our dataset fall within 3.69 months above or below the mean of 5.78. Given the precision of quartiles it would be interesting to see the relative frequency for each month, excluding the value of zero."
   ]
  },
  {
   "cell_type": "code",
   "execution_count": null,
   "metadata": {},
   "outputs": [],
   "source": [
    "autos.loc[autos['registration_month'] != 0, 'registration_month'].value_counts(normalize=True,dropna=False)"
   ]
  },
  {
   "cell_type": "markdown",
   "metadata": {},
   "source": [
    "We see that the most common month of car registration is March, while the least common month is February. Interestingly the top 5 months fall in spring and summer. \n",
    "\n",
    "Let's continue with the columns with full date information, which are stored as strings. The `date_crawled` column refers to the dates the website was crawled."
   ]
  },
  {
   "cell_type": "code",
   "execution_count": null,
   "metadata": {},
   "outputs": [],
   "source": [
    "autos['date_crawled'].str[:10].value_counts(normalize=True, dropna=False).sort_index()"
   ]
  },
  {
   "cell_type": "markdown",
   "metadata": {},
   "source": [
    "We see that the website was crawled for 34 days starting on March 5 and ending on April 7. Although the distribution is fairly even throuhout, there is a substantial drop in the last three days (April 5-7). Especially the last two days indicate that the number of listings crawled fell by 90% or more.\n",
    "\n",
    "Now let's take a look at the `ad_created` column."
   ]
  },
  {
   "cell_type": "code",
   "execution_count": null,
   "metadata": {},
   "outputs": [],
   "source": [
    "autos['ad_created'].str[:10].value_counts(normalize=True, dropna=False).sort_index()"
   ]
  },
  {
   "cell_type": "markdown",
   "metadata": {},
   "source": [
    "The posting date for ads span over a 10-month period. Not suprisingly, the gap between older dates are larger than the ones for more recent dates since the ads created earlier are more likely to be removed due to cars being sold or ad being expired. \n",
    "\n",
    "Interestingly, once again we observe that there is a drop in the last three days, and particularly the last two days. Perhaps this could be explained by some sort of a delay between the dates of post submission and its appearance on the website. For example, if there is a process that requires posts to be approved, which might take some times (a number of hours to a number of days), then the date of crawling would not necessarily show all the new ads, which are to appear in a day or two.\n",
    "\n",
    "The third full date column, `last_seen` refers to date a post last appeared on the website implying the date of removal of the post for one reason or another."
   ]
  },
  {
   "cell_type": "code",
   "execution_count": null,
   "metadata": {},
   "outputs": [],
   "source": [
    "autos['last_seen'].str[:10].value_counts(normalize=True, dropna=False).sort_index()"
   ]
  },
  {
   "cell_type": "markdown",
   "metadata": {},
   "source": [
    "The values here are less uniform than other date columns. We can have a better understanding of this by sorting the dates by frequencies."
   ]
  },
  {
   "cell_type": "code",
   "execution_count": null,
   "metadata": {},
   "outputs": [],
   "source": [
    "autos['last_seen'].str[0:10].value_counts(normalize=True, dropna=False).sort_values()"
   ]
  },
  {
   "cell_type": "markdown",
   "metadata": {},
   "source": [
    "Excluding the last three days, the values range from 0.1% to roughly 3% of all entries. The general trend is that the earlier the date the lower number of ads removed. Once again, the last three days form an anomaly where the numbers spike from around 2% to first 12-13% and then to 22% for the last day. It seems highly unlikely that car sales somehow shot up by 600%-1000% in those three days, which is further supported by we have already seen unusual patterns for the last three days. We don't have information on how the crawling was conducted, but it appears that the \"last 3-day anomalies\" present in all three columns might have to do with the methdology adopted for the crawling process.\n",
    "\n",
    "## Investigating Price, Engine Power, Mileage and Vehicle Type by Brand\n",
    "\n",
    "Our analysis will conclude with a deeper look into various properties by brand. Let's start with a count of all brands."
   ]
  },
  {
   "cell_type": "code",
   "execution_count": null,
   "metadata": {},
   "outputs": [],
   "source": [
    "print('Count:', autos['brand'].value_counts(normalize=True, dropna=False).count())\n",
    "autos['brand'].value_counts(normalize=True, dropna=False)"
   ]
  },
  {
   "cell_type": "markdown",
   "metadata": {},
   "source": [
    "The dataset contains 40 brands, but the top 4 brands, Volkswagen, Opel, BMW and Mercedes-Benz, account for more than half of all listings. Given Germany's strength in automotive industry as well as the fact that the data is crawled from the German eBay website, it is hardly surprising that the top 5 brands are all German. These brands make up around 60% of the entire dataset.\n",
    "\n",
    "On the other end of the spectrum, more than half of the brands hold less than 1% of the listings individually. Here we will focus on the brands that hold at least 5% of all entries."
   ]
  },
  {
   "cell_type": "code",
   "execution_count": null,
   "metadata": {},
   "outputs": [],
   "source": [
    "auto_brand_count = autos['brand'].value_counts(normalize=True, dropna=False)\n",
    "major_brands_count = auto_brand_count[auto_brand_count > 0.05]\n",
    "major_brands = major_brands_count.index\n",
    "print(major_brands_count)"
   ]
  },
  {
   "cell_type": "markdown",
   "metadata": {},
   "source": [
    "Let's look at the average price, as well as maximum and minimum prices for each brand."
   ]
  },
  {
   "cell_type": "code",
   "execution_count": null,
   "metadata": {},
   "outputs": [],
   "source": [
    "brand_avg ={}\n",
    "brand_max={}\n",
    "brand_min={}\n",
    "\n",
    "for brand in major_brands:\n",
    "    auto_brand = autos[autos['brand'] == brand]\n",
    "    \n",
    "    avg = round(auto_brand['price'].mean())\n",
    "    maximum = round(auto_brand['price'].max())\n",
    "    minimum = round(auto_brand['price'].min())\n",
    "    \n",
    "    brand_avg[brand] = avg\n",
    "    brand_max[brand] = maximum\n",
    "    brand_min[brand] = minimum\n",
    "\n",
    "print(brand_avg)\n",
    "print(brand_max)\n",
    "print(brand_min)"
   ]
  },
  {
   "cell_type": "markdown",
   "metadata": {},
   "source": [
    "The representation of dictionaries above is visually not as clear as it can be. We can present these in a more intuitive format. Note that minima for all brands are 1, so we will leave them out."
   ]
  },
  {
   "cell_type": "code",
   "execution_count": null,
   "metadata": {},
   "outputs": [],
   "source": [
    "price_avg = pd.Series(brand_avg, name='mean_price')\n",
    "price_max = pd.Series(brand_max, name='max_price')\n",
    "\n",
    "pd.concat([price_avg, price_max], axis=1)"
   ]
  },
  {
   "cell_type": "markdown",
   "metadata": {},
   "source": [
    "The table indicates that Audi is the most expensive of all, followed by Mercedes-Benz and BMW. After these three brands there is a large gap in mean price. Focusing on the top 3 brands, it's surprising to see that maximum price is inversely related to mean price. Among the 3 brands, Audi, which holds the top spot for mean price with 9213, has a maximum price of 175,000, which is lower than the other two brands. On the contrary, BMW that is placed third in terms of mean price with a value of 8,261 has the highest price of all.\n",
    "\n",
    "Now let's take a look at the engine power, mileage and vehicle type for these brands."
   ]
  },
  {
   "cell_type": "code",
   "execution_count": null,
   "metadata": {},
   "outputs": [],
   "source": [
    "engine_power = {}\n",
    "mileage = {}\n",
    "vehicle_type = {}\n",
    "\n",
    "for brand in major_brands:\n",
    "    auto_brand = autos[autos['brand'] == brand]\n",
    "    \n",
    "    power = round(auto_brand['power_ps'].mean())\n",
    "    odometer = round(auto_brand['odometer_km'].mean())\n",
    "    car_type = auto_brand['vehicle_type'].value_counts(normalize=True)\n",
    "    \n",
    "    engine_power[brand] = power\n",
    "    mileage[brand] = odometer\n",
    "    vehicle_type[brand] = car_type\n",
    "\n",
    "power_avg = pd.Series(engine_power, name='mean_power')\n",
    "mileage_avg = pd.Series(mileage, name='mean_mileage')\n",
    "\n",
    "pd.concat([power_avg, mileage_avg], axis=1)"
   ]
  },
  {
   "cell_type": "markdown",
   "metadata": {},
   "source": [
    "Looking at the engine power, once again we see a cluster of three brands (BMW, Audi, Mercedes-Benz) at the top and another cluster for the other three brands (Ford, Volkswagen, Opel). BMW comes on top with an average horsepower of 167, followed by Audi with 160 horsepower and Mercedes-Benz with 150 horsepower.\n",
    "\n",
    "The mean mileage of brands are reasonably close to one another, perhaps with the exception of Ford which has the least mileage of all and a gap of over four thousand to the closest brand, Volkswagen. Interestingly the top three brands in mean power are also the top three brands in mean mileage. There seems to be a correlation between the engine power and the cars longevity assuming a higher mean mileage implies higher longevity.\n",
    "\n",
    "Finally, let's see the relative frequency of vehicle types for each brand."
   ]
  },
  {
   "cell_type": "code",
   "execution_count": null,
   "metadata": {},
   "outputs": [],
   "source": [
    "pd.DataFrame(vehicle_type).transpose()"
   ]
  },
  {
   "cell_type": "markdown",
   "metadata": {},
   "source": [
    "The dataset contains eight vehicle types: andere (other), bus, cabrio, coupe, kleingwagen (supermini), kombi (station wagon), limousine and SUV.\n",
    "\n",
    "Focusing on the representation of each type in brands, we see that Volkswagen has the highest percentage of buses (15%) and lowest percentage of coupes (2.6%) and station wagons (18.9%). Opel has the highest supermini percentage (34.5%) and the lowest SUV percentage (1.2%). BMW leads the cabrio, coupe and limousine categories (10.3%, 11.5% and 50%, respectively) while holding the lowest percentage for the supermini category (1.3%). Mercedes-Benz holds the highest percentage of SUVs (5.2%) and a the second-highest percentages of cabrios and coupes right behind BMW. In terms of percentages Audi has almost twice the amount of station wagen with 40% of its entire listing (followed by BMW with 23%). It also has the lowest percentage of buses (0.08%), which is also the lowest percentage of any vehicle type by any brand. Finally, Ford holds the second-highest percentage for super-mini (33.7%) and the lowest percentages for cabrio (3%) and limousine (17.6%).\n",
    "\n",
    "It is interesting to note that 50% of all BMW listings are limousines, which seems rather high. This would likely skew the mean price upward. Although not nearly as high, 15% of all Volkswagen listings are buses, which would also affect the price to some extent. It is also worth noting that 79% of Audi listings are either station wagon or limousine. It appears that Volkswagen, Open and Ford have rather uniform distributions. A more accurate way to understand how smoothly the vehice types are distributed among brands is to check the standard deviation for vehicle types."
   ]
  },
  {
   "cell_type": "code",
   "execution_count": null,
   "metadata": {},
   "outputs": [],
   "source": [
    "std_dev_vehicle_types = {}\n",
    "\n",
    "for brand in major_brands:\n",
    "    auto_brand = autos[autos['brand'] == brand]\n",
    "    std = round(auto_brand['vehicle_type'].value_counts(normalize=True).std(),4)\n",
    "    std_dev_vehicle_types[brand] = std\n",
    "\n",
    "std_dev_vehicle_types"
   ]
  },
  {
   "cell_type": "markdown",
   "metadata": {},
   "source": [
    "This confirms our observation that BMW and Audi have the highest standard deviation with their heavy holdings of limousines and limousine/station wagon, respectively. On the other hand, Volkswagen has the smoothest distribution with a rather low standard deviation, followed by Opel and Ford."
   ]
  }
 ],
 "metadata": {
  "kernelspec": {
   "display_name": "Python 3",
   "language": "python",
   "name": "python3"
  },
  "language_info": {
   "codemirror_mode": {
    "name": "ipython",
    "version": 3
   },
   "file_extension": ".py",
   "mimetype": "text/x-python",
   "name": "python",
   "nbconvert_exporter": "python",
   "pygments_lexer": "ipython3",
   "version": "3.7.6"
  }
 },
 "nbformat": 4,
 "nbformat_minor": 4
}
