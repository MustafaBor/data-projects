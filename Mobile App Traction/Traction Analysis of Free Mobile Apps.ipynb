{
 "cells": [
  {
   "cell_type": "markdown",
   "metadata": {},
   "source": [
    "# Traction Analysis of Free Mobile Apps\n",
    "\n",
    "This project presents a simple analysis to determine popularity and user satisfaction of free apps in the App Store and Google Play Store with an emphasis on app genres. The focus here is free apps that rely on advertisements for revenue generation. The main idea behind the analysis is to provide data-driven decisions that help app developers idenfity the type of apps that would likely to gain traction among users and present opportunities for ad generated revenues.\n",
    "\n",
    "## Introduction to Data Sets\n",
    "The data used in this project is a subset of over five million apps that are available in both stores. There are two sources of data sets that are freely available online and can be used as sample without incurring additional time and cost that would be required to compile data sets for the entire market.\n",
    "\n",
    "* The [first data set](https://www.kaggle.com/lava18/google-play-store-apps) contains over 10800 Android apps from Google Play Store and is available for download [here](https://dq-content.s3.amazonaws.com/350/googleplaystore.csv)\n",
    "\n",
    "* The [second data set](https://www.kaggle.com/ramamet4/app-store-apple-data-set-10k-apps) contains close to 7200 iOS apps from the App Store and is available for download [here](https://dq-content.s3.amazonaws.com/350/AppleStore.csv)\n",
    "\n",
    "##  Initial Exploration of the Data\n",
    "\n",
    "We will start by opening the data sets and exploring the basic information contained in them.\n"
   ]
  },
  {
   "cell_type": "code",
   "execution_count": 1,
   "metadata": {},
   "outputs": [],
   "source": [
    "from csv import reader\n",
    "\n",
    "opened_file_ios = open('AppleStore.csv', encoding='utf8')\n",
    "read_file_ios = reader(opened_file_ios)\n",
    "ios = list(read_file_ios)\n",
    "\n",
    "opened_file_android = open('googleplaystore.csv', encoding='utf8')\n",
    "read_file_android = reader(opened_file_android)\n",
    "android = list(read_file_android)"
   ]
  },
  {
   "cell_type": "markdown",
   "metadata": {},
   "source": [
    "We can further separate header from the rest of the data for ease of use."
   ]
  },
  {
   "cell_type": "code",
   "execution_count": 2,
   "metadata": {},
   "outputs": [],
   "source": [
    "ios_header = ios[0]\n",
    "ios = ios[1:]\n",
    "\n",
    "android_header = android[0]\n",
    "android = android[1:]"
   ]
  },
  {
   "cell_type": "markdown",
   "metadata": {},
   "source": [
    "To make exploring data more efficiently in the future we can create a reusable function called `explore_data()` which takes in four parameters: the dataset, the beginning and ending indices for the dataset, and the size of the dataset in total number of columns and rows."
   ]
  },
  {
   "cell_type": "code",
   "execution_count": 3,
   "metadata": {},
   "outputs": [
    {
     "name": "stdout",
     "output_type": "stream",
     "text": [
      "['', 'id', 'track_name', 'size_bytes', 'currency', 'price', 'rating_count_tot', 'rating_count_ver', 'user_rating', 'user_rating_ver', 'ver', 'cont_rating', 'prime_genre', 'sup_devices.num', 'ipadSc_urls.num', 'lang.num', 'vpp_lic']\n",
      "\n",
      "\n",
      "['1', '281656475', 'PAC-MAN Premium', '100788224', 'USD', '3.99', '21292', '26', '4', '4.5', '6.3.5', '4+', 'Games', '38', '5', '10', '1']\n",
      "\n",
      "\n",
      "['2', '281796108', 'Evernote - stay organized', '158578688', 'USD', '0', '161065', '26', '4', '3.5', '8.2.2', '4+', 'Productivity', '37', '5', '23', '1']\n",
      "\n",
      "\n",
      "['3', '281940292', 'WeatherBug - Local Weather, Radar, Maps, Alerts', '100524032', 'USD', '0', '188583', '2822', '3.5', '4.5', '5.0.0', '4+', 'Weather', '37', '5', '3', '1']\n",
      "\n",
      "\n",
      "['4', '282614216', 'eBay: Best App to Buy, Sell, Save! Online Shopping', '128512000', 'USD', '0', '262241', '649', '4', '4.5', '5.10.0', '12+', 'Shopping', '37', '5', '9', '1']\n",
      "\n",
      "\n",
      "['5', '282935706', 'Bible', '92774400', 'USD', '0', '985920', '5320', '4.5', '5', '7.5.1', '4+', 'Reference', '37', '5', '45', '1']\n",
      "\n",
      "\n",
      "Total number of rows:  7197\n",
      "Total number of columns:  17\n"
     ]
    }
   ],
   "source": [
    "def explore_data(dataset, start, end, total_rows_columns = False):\n",
    "    dataset_slice = dataset[start:end]\n",
    "    for row in dataset_slice:\n",
    "        print(row)\n",
    "        print('\\n')\n",
    "    \n",
    "    if total_rows_columns:\n",
    "        print('Total number of rows: ', len(dataset))\n",
    "        print('Total number of columns: ', len(dataset[0]))\n",
    "\n",
    "print(ios_header)\n",
    "print('\\n')\n",
    "explore_data(ios, 0, 5, True)"
   ]
  },
  {
   "cell_type": "markdown",
   "metadata": {},
   "source": [
    "The header gives us an idea about which of the 17 columns  in 7197 rows would be usefuk in our task, such as the genre and ratings.\n",
    "\n",
    "Now we can take a look at the Android data set."
   ]
  },
  {
   "cell_type": "code",
   "execution_count": 4,
   "metadata": {},
   "outputs": [
    {
     "name": "stdout",
     "output_type": "stream",
     "text": [
      "['App', 'Category', 'Rating', 'Reviews', 'Size', 'Installs', 'Type', 'Price', 'Content Rating', 'Genres', 'Last Updated', 'Current Ver', 'Android Ver']\n",
      "\n",
      "\n",
      "['Photo Editor & Candy Camera & Grid & ScrapBook', 'ART_AND_DESIGN', '4.1', '159', '19M', '10,000+', 'Free', '0', 'Everyone', 'Art & Design', 'January 7, 2018', '1.0.0', '4.0.3 and up']\n",
      "\n",
      "\n",
      "['Coloring book moana', 'ART_AND_DESIGN', '3.9', '967', '14M', '500,000+', 'Free', '0', 'Everyone', 'Art & Design;Pretend Play', 'January 15, 2018', '2.0.0', '4.0.3 and up']\n",
      "\n",
      "\n",
      "['U Launcher Lite – FREE Live Cool Themes, Hide Apps', 'ART_AND_DESIGN', '4.7', '87510', '8.7M', '5,000,000+', 'Free', '0', 'Everyone', 'Art & Design', 'August 1, 2018', '1.2.4', '4.0.3 and up']\n",
      "\n",
      "\n",
      "['Sketch - Draw & Paint', 'ART_AND_DESIGN', '4.5', '215644', '25M', '50,000,000+', 'Free', '0', 'Teen', 'Art & Design', 'June 8, 2018', 'Varies with device', '4.2 and up']\n",
      "\n",
      "\n",
      "['Pixel Draw - Number Art Coloring Book', 'ART_AND_DESIGN', '4.3', '967', '2.8M', '100,000+', 'Free', '0', 'Everyone', 'Art & Design;Creativity', 'June 20, 2018', '1.1', '4.4 and up']\n",
      "\n",
      "\n",
      "Total number of rows:  10841\n",
      "Total number of columns:  13\n"
     ]
    }
   ],
   "source": [
    "print(android_header)\n",
    "print('\\n')\n",
    "explore_data(android, 0, 5, total_rows_columns = True)"
   ]
  },
  {
   "cell_type": "markdown",
   "metadata": {},
   "source": [
    "For the Android data set we observe 10841 rows and 13 columns, along with slightly more clear labels for headers compared to the iOS data set. The details about each column for the iOS can be reached [here](https://www.kaggle.com/ramamet4/app-store-apple-data-set-10k-apps/home).\n",
    "\n",
    "## Data Cleaning\n",
    "\n",
    "### Removing Inaccurate Data\n",
    "\n",
    "Since user rating of an app is a fairly important data point and also is defined by upper and lower boundaries of 0 and 5, we can verify if all ratings in both data sets are entered correctly. Furthermore, we can delete the rows that are outside the range. \n",
    "\n",
    "We can determine the ratings by looking at the headers. In this case, the user rating corresponds to index 8 in iOS data set and index 2 in Android data set."
   ]
  },
  {
   "cell_type": "code",
   "execution_count": 5,
   "metadata": {},
   "outputs": [
    {
     "name": "stdout",
     "output_type": "stream",
     "text": [
      "Index of row in to be deleted - Android:  10472\n"
     ]
    }
   ],
   "source": [
    "for index, row in enumerate(ios):\n",
    "    rating = float(row[8])\n",
    "    if rating  > 5.0 or rating < 0.0:\n",
    "        print('Index of row to be deleted - iOS: ', index)\n",
    "        \n",
    "for index, row in enumerate(android):\n",
    "    rating = float(row[2])\n",
    "    if rating  > 5.0 or rating < 0.0:\n",
    "        print('Index of row in to be deleted - Android: ', index)\n"
   ]
  },
  {
   "cell_type": "markdown",
   "metadata": {},
   "source": [
    "Now we can delete the app using the index number and verify if the row is indeed deleted. (Note that if there were multiple indices to be deleted, we would collect all indices in another list and delete them using a loop.) When we print the index of the delete row as well as rows before and after, we see that the row with incorrect data is deleted."
   ]
  },
  {
   "cell_type": "code",
   "execution_count": 6,
   "metadata": {},
   "outputs": [
    {
     "name": "stdout",
     "output_type": "stream",
     "text": [
      "[['Xposed Wi-Fi-Pwd', 'PERSONALIZATION', '3.5', '1042', '404k', '100,000+', 'Free', '0', 'Everyone', 'Personalization', 'August 5, 2014', '3.0.0', '4.0.3 and up'], ['osmino Wi-Fi: free WiFi', 'TOOLS', '4.2', '134203', '4.1M', '10,000,000+', 'Free', '0', 'Everyone', 'Tools', 'August 7, 2018', '6.06.14', '4.4 and up']]\n"
     ]
    }
   ],
   "source": [
    "del android[10472]\n",
    "print (android[10471:10473])"
   ]
  },
  {
   "cell_type": "markdown",
   "metadata": {},
   "source": [
    "### Removing Duplicate Entries\n",
    "\n",
    "Given the size of data sets it would not be particularly unusual to have some duplicate entries which should be cleaned up. To identify duplicate entries and separate them from the unique entries we can create two lists that store both types."
   ]
  },
  {
   "cell_type": "code",
   "execution_count": 7,
   "metadata": {},
   "outputs": [
    {
     "name": "stdout",
     "output_type": "stream",
     "text": [
      "Total number of duplicate entries:  1181\n",
      "\n",
      "\n",
      "First 20 duplicate entries: \n",
      " ['Quick PDF Scanner + OCR FREE', 'Box', 'Google My Business', 'ZOOM Cloud Meetings', 'join.me - Simple Meetings', 'Box', 'Zenefits', 'Google Ads', 'Google My Business', 'Slack', 'FreshBooks Classic', 'Insightly CRM', 'QuickBooks Accounting: Invoicing & Expenses', 'HipChat - Chat Built for Teams', 'Xero Accounting Software', 'MailChimp - Email, Marketing Automation', 'Crew - Free Messaging and Scheduling', 'Asana: organize team projects', 'Google Analytics', 'AdWords Express']\n"
     ]
    }
   ],
   "source": [
    "unique_android = []\n",
    "duplicate_android = []\n",
    "\n",
    "for app in android:\n",
    "    name = app[0]\n",
    "    if name in unique_android:\n",
    "        duplicate_android.append(name)\n",
    "    else:\n",
    "        unique_android.append(name)\n",
    "\n",
    "print('Total number of duplicate entries: ', len(duplicate_android))\n",
    "print('\\n')\n",
    "print('First 20 duplicate entries: \\n', duplicate_android[0:20])\n"
   ]
  },
  {
   "cell_type": "markdown",
   "metadata": {},
   "source": [
    "We can do a quick spot check to search for some clues as to the reason behind the duplicates. By doing so we observe that some of the entries are identical whereas others differ in certain fields."
   ]
  },
  {
   "cell_type": "code",
   "execution_count": 8,
   "metadata": {},
   "outputs": [
    {
     "name": "stdout",
     "output_type": "stream",
     "text": [
      "['Box', 'BUSINESS', '4.2', '159872', 'Varies with device', '10,000,000+', 'Free', '0', 'Everyone', 'Business', 'July 31, 2018', 'Varies with device', 'Varies with device']\n",
      "['Box', 'BUSINESS', '4.2', '159872', 'Varies with device', '10,000,000+', 'Free', '0', 'Everyone', 'Business', 'July 31, 2018', 'Varies with device', 'Varies with device']\n",
      "['Box', 'BUSINESS', '4.2', '159872', 'Varies with device', '10,000,000+', 'Free', '0', 'Everyone', 'Business', 'July 31, 2018', 'Varies with device', 'Varies with device']\n",
      "\n",
      "\n",
      "['Google Allo', 'COMMUNICATION', '4.3', '346982', 'Varies with device', '10,000,000+', 'Free', '0', 'Everyone', 'Communication', 'January 23, 2018', 'Varies with device', '4.1 and up']\n",
      "['Google Allo', 'COMMUNICATION', '4.3', '346980', 'Varies with device', '10,000,000+', 'Free', '0', 'Everyone', 'Communication', 'January 23, 2018', 'Varies with device', '4.1 and up']\n",
      "['Google Allo', 'COMMUNICATION', '4.3', '347086', 'Varies with device', '10,000,000+', 'Free', '0', 'Everyone', 'Communication', 'January 23, 2018', 'Varies with device', '4.1 and up']\n"
     ]
    }
   ],
   "source": [
    "for app in android:\n",
    "    if app[0] == 'Box':\n",
    "        print(app)\n",
    "        \n",
    "print('\\n')\n",
    "\n",
    "for app in android:\n",
    "    if app[0] == 'Google Allo':\n",
    "        print(app)        "
   ]
  },
  {
   "cell_type": "markdown",
   "metadata": {},
   "source": [
    "Here we observe that the app named 'Box' contains identical entries, whereas entries for the 'Google Allo' app differ in total number of ratings (fourth index). This implies that the data for entries were collected on different dates and that the entry with the highest number indicates the most recent data. This helps us determine how to delete duplicate entries, in other words the criterion we want to follow in removing duplicates. Since we would like to keep the most recent entry with more data points, we can proceed with the removing process that consists of:\n",
    "\n",
    "1. Creating a dictionary to store a single entry for duplicate entries \n",
    "2. Collecting all android apps under one list\n",
    "\n",
    "Let's start with creating and populating the dictionary."
   ]
  },
  {
   "cell_type": "code",
   "execution_count": 9,
   "metadata": {},
   "outputs": [],
   "source": [
    "reviews_max = {}\n",
    "\n",
    "for app in android:\n",
    "    name = app[0]\n",
    "    review_count = float(app[3])\n",
    "    if name not in reviews_max:\n",
    "        reviews_max[name] = review_count\n",
    "    elif reviews_max[name] < review_count:\n",
    "        reviews_max[name] = review_count"
   ]
  },
  {
   "cell_type": "markdown",
   "metadata": {},
   "source": [
    "We can confirm that the `reviews_max{}` contains only one entry for the previously duplicate entries:"
   ]
  },
  {
   "cell_type": "code",
   "execution_count": 10,
   "metadata": {},
   "outputs": [
    {
     "name": "stdout",
     "output_type": "stream",
     "text": [
      "Entry for 'Google Allo': 347086.0\n",
      "Length of original list without duplicates: 9659\n",
      "Length of dictionary: 9659\n"
     ]
    }
   ],
   "source": [
    "print('Entry for \\'Google Allo\\':' ,reviews_max['Google Allo'])\n",
    "print('Length of original list without duplicates:', len(android)-1181)\n",
    "print('Length of dictionary:',len(reviews_max))"
   ]
  },
  {
   "cell_type": "markdown",
   "metadata": {},
   "source": [
    "As we can see from the first print statement the 'Google Allo' app returns the highest rating count of the three values associated with the app previously.\n",
    "\n",
    "Also, the length of original android list subtracted by duplicate numbers indeed match with the length of the dictionary we just created.\n"
   ]
  },
  {
   "cell_type": "code",
   "execution_count": 11,
   "metadata": {},
   "outputs": [
    {
     "data": {
      "text/plain": [
       "9659"
      ]
     },
     "execution_count": 11,
     "metadata": {},
     "output_type": "execute_result"
    }
   ],
   "source": [
    "android_updated=[]\n",
    "name_added=[]\n",
    "\n",
    "for app in android:\n",
    "    name = app[0]\n",
    "    review_count = float(app[3])\n",
    "    if (name not in name_added) and (review_count == reviews_max[name]):\n",
    "        android_updated.append(app)\n",
    "        name_added.append(name)\n",
    "    \n",
    "len(android_updated)    "
   ]
  },
  {
   "cell_type": "markdown",
   "metadata": {},
   "source": [
    "Now let's confirm the length of the data set is 9,656 and print the first and last three entries in our updated list."
   ]
  },
  {
   "cell_type": "code",
   "execution_count": 12,
   "metadata": {},
   "outputs": [
    {
     "name": "stdout",
     "output_type": "stream",
     "text": [
      "First three entries in the list:\n",
      "['Photo Editor & Candy Camera & Grid & ScrapBook', 'ART_AND_DESIGN', '4.1', '159', '19M', '10,000+', 'Free', '0', 'Everyone', 'Art & Design', 'January 7, 2018', '1.0.0', '4.0.3 and up']\n",
      "\n",
      "\n",
      "['U Launcher Lite – FREE Live Cool Themes, Hide Apps', 'ART_AND_DESIGN', '4.7', '87510', '8.7M', '5,000,000+', 'Free', '0', 'Everyone', 'Art & Design', 'August 1, 2018', '1.2.4', '4.0.3 and up']\n",
      "\n",
      "\n",
      "['Sketch - Draw & Paint', 'ART_AND_DESIGN', '4.5', '215644', '25M', '50,000,000+', 'Free', '0', 'Teen', 'Art & Design', 'June 8, 2018', 'Varies with device', '4.2 and up']\n",
      "\n",
      "\n",
      "Total number of rows:  9659\n",
      "Total number of columns:  13\n"
     ]
    }
   ],
   "source": [
    "print('First three entries in the list:')\n",
    "explore_data(android_updated, 0, 3, True)"
   ]
  },
  {
   "cell_type": "markdown",
   "metadata": {},
   "source": [
    "### Removing Non-English Entries\n",
    "\n",
    "Since our audience consists of an English-speaking audience we will consider removing non-English apps from our list. One straightforward way of doing this is by determining whether the app name contains non-ASCII characters.\n",
    "\n",
    "We can develop a function to examine if a string contains non-ASCII characters by using the built-in `ord()` function. Furthermore, since some of the English apps contain characters outside the ASCII standard such as emojis, ™, em and en dashes, etc., we may want to have some flexibility and allow 3 non-ASCII characters in order to minimize loss of data for English apps that use non-English characters."
   ]
  },
  {
   "cell_type": "code",
   "execution_count": 13,
   "metadata": {},
   "outputs": [
    {
     "name": "stdout",
     "output_type": "stream",
     "text": [
      "False\n",
      "True\n"
     ]
    }
   ],
   "source": [
    "def is_english(string):\n",
    "    count = 0\n",
    "    for ch in string:\n",
    "        if ord(ch) > 127 and count < 3:\n",
    "            count += 1\n",
    "        elif ord(ch) > 127 and count >= 3:\n",
    "            return False\n",
    "    return True\n",
    "\n",
    "print(is_english('电视剧热播'))\n",
    "print(is_english('Instagram'))\n"
   ]
  },
  {
   "cell_type": "markdown",
   "metadata": {},
   "source": [
    "Although this function is still far from being perfect, it is unlikely that it will remove more than a few English apps and should suffice for our analysis at this point. \n",
    "\n",
    "Now we can use the function we built to remove non-English apps from our list."
   ]
  },
  {
   "cell_type": "code",
   "execution_count": 14,
   "metadata": {},
   "outputs": [
    {
     "name": "stdout",
     "output_type": "stream",
     "text": [
      "['Photo Editor & Candy Camera & Grid & ScrapBook', 'ART_AND_DESIGN', '4.1', '159', '19M', '10,000+', 'Free', '0', 'Everyone', 'Art & Design', 'January 7, 2018', '1.0.0', '4.0.3 and up']\n",
      "\n",
      "\n",
      "['U Launcher Lite – FREE Live Cool Themes, Hide Apps', 'ART_AND_DESIGN', '4.7', '87510', '8.7M', '5,000,000+', 'Free', '0', 'Everyone', 'Art & Design', 'August 1, 2018', '1.2.4', '4.0.3 and up']\n",
      "\n",
      "\n",
      "['Sketch - Draw & Paint', 'ART_AND_DESIGN', '4.5', '215644', '25M', '50,000,000+', 'Free', '0', 'Teen', 'Art & Design', 'June 8, 2018', 'Varies with device', '4.2 and up']\n",
      "\n",
      "\n",
      "Total number of rows:  9614\n",
      "Total number of columns:  13\n",
      "\n",
      "\n",
      "['1', '281656475', 'PAC-MAN Premium', '100788224', 'USD', '3.99', '21292', '26', '4', '4.5', '6.3.5', '4+', 'Games', '38', '5', '10', '1']\n",
      "\n",
      "\n",
      "['2', '281796108', 'Evernote - stay organized', '158578688', 'USD', '0', '161065', '26', '4', '3.5', '8.2.2', '4+', 'Productivity', '37', '5', '23', '1']\n",
      "\n",
      "\n",
      "['3', '281940292', 'WeatherBug - Local Weather, Radar, Maps, Alerts', '100524032', 'USD', '0', '188583', '2822', '3.5', '4.5', '5.0.0', '4+', 'Weather', '37', '5', '3', '1']\n",
      "\n",
      "\n",
      "Total number of rows:  6183\n",
      "Total number of columns:  17\n"
     ]
    }
   ],
   "source": [
    "android_english = []\n",
    "ios_english = []\n",
    "\n",
    "for app in android_updated:\n",
    "    name = app[0]\n",
    "    if is_english(name):\n",
    "        android_english.append(app)\n",
    "\n",
    "for app in ios:\n",
    "    name = app[2]\n",
    "    if is_english(name):\n",
    "        ios_english.append(app)\n",
    "\n",
    "explore_data(android_english, 0, 3, True)\n",
    "print('\\n')\n",
    "explore_data(ios_english, 0, 3, True)\n"
   ]
  },
  {
   "cell_type": "markdown",
   "metadata": {},
   "source": [
    "The removal of non-English titles reduced the number of Android apps from 9659 to 9614 and iOS apps from 7197 to 6183. The mismatch in removal ratio between Android apps and iOS apps is an interesting topic in itself which might suggest the North American focus of Android, but such discussion is beyond the scope of our analysis. \n",
    "\n",
    "### Extracting Free Apps\n",
    "\n",
    "Since our focus is geared towards free apps that generate revenue from advertisements, we should limit our data set to include only such apps."
   ]
  },
  {
   "cell_type": "code",
   "execution_count": 15,
   "metadata": {
    "scrolled": true
   },
   "outputs": [
    {
     "name": "stdout",
     "output_type": "stream",
     "text": [
      "8864\n",
      "3222\n"
     ]
    }
   ],
   "source": [
    "android_final = []\n",
    "ios_final = []\n",
    "\n",
    "for app in android_english:\n",
    "    price = app[7]\n",
    "    if price == '0':\n",
    "        android_final.append(app)\n",
    "\n",
    "for app in ios_english:\n",
    "    price = app[5]\n",
    "    if price == '0':\n",
    "        ios_final.append(app)\n",
    "\n",
    "print(len(android_final))\n",
    "print(len(ios_final))"
   ]
  },
  {
   "cell_type": "markdown",
   "metadata": {},
   "source": [
    "We see that the final data sets for the Android and iOS apps contain 8864 and 3222 entries, respectively. Since we have completed the data cleaning by removing inaccurate data and duplicate entries, and isolated our sets to English and free apps, we can continue with our analysis."
   ]
  },
  {
   "cell_type": "markdown",
   "metadata": {},
   "source": [
    "## Genre Distribution\n",
    "\n",
    "As mentioned in the introduction, our goal for this project is to determine the types of apps that are most appealing to both Android and iOS users which would reflect in downloads and the ad revenue. We can start by examining the most common genres and the genre distribution for each data set. We can achieve this by creating dictionaries to form frequency tables for `prime_genre` for iOS and `Category` and `Genres` attributes which indicate the percentages for categories/genres.\n",
    "\n",
    "Below we will build two functions, one for creating frequency tables with percentages and the other to display the percentages in descending order."
   ]
  },
  {
   "cell_type": "code",
   "execution_count": 16,
   "metadata": {},
   "outputs": [],
   "source": [
    "def freq_table(dataset, index):\n",
    "    ft = {}\n",
    "    for row in dataset:\n",
    "        key = row[index]\n",
    "        if key in ft:\n",
    "            ft[key] += 1\n",
    "        else:\n",
    "            ft[key] = 1\n",
    "    \n",
    "    total = len(dataset)\n",
    "    pt = {}\n",
    "    for key in ft:\n",
    "        percentage = round(ft[key] / total * 100, 2)\n",
    "        pt[key] = percentage\n",
    "    \n",
    "    return pt\n",
    "\n",
    "def freq_table_ordered (dataset, index, descending=False):\n",
    "    table = freq_table(dataset, index)\n",
    "    table_display =[]\n",
    "    for key in table:\n",
    "        pair_as_tuple = (table[key], key)\n",
    "        table_display.append(pair_as_tuple)\n",
    "    \n",
    "    if descending == True:\n",
    "        table_sorted = sorted(table_display, reverse = True)\n",
    "    else:\n",
    "        table_sorted = sorted(table_display)\n",
    "    \n",
    "    for entry in table_sorted:\n",
    "        print(entry[1], ':', entry[0])  "
   ]
  },
  {
   "cell_type": "markdown",
   "metadata": {},
   "source": [
    "We can now examine the `prime_genre` field in the iOS data set."
   ]
  },
  {
   "cell_type": "code",
   "execution_count": 17,
   "metadata": {},
   "outputs": [
    {
     "data": {
      "text/plain": [
       "{'Productivity': 1.74,\n",
       " 'Weather': 0.87,\n",
       " 'Shopping': 2.61,\n",
       " 'Reference': 0.56,\n",
       " 'Finance': 1.12,\n",
       " 'Music': 2.05,\n",
       " 'Utilities': 2.51,\n",
       " 'Travel': 1.24,\n",
       " 'Social Networking': 3.29,\n",
       " 'Sports': 2.14,\n",
       " 'Health & Fitness': 2.02,\n",
       " 'Games': 58.16,\n",
       " 'Food & Drink': 0.81,\n",
       " 'News': 1.33,\n",
       " 'Book': 0.43,\n",
       " 'Photo & Video': 4.97,\n",
       " 'Entertainment': 7.88,\n",
       " 'Business': 0.53,\n",
       " 'Lifestyle': 1.58,\n",
       " 'Education': 3.66,\n",
       " 'Navigation': 0.19,\n",
       " 'Medical': 0.19,\n",
       " 'Catalogs': 0.12}"
      ]
     },
     "execution_count": 17,
     "metadata": {},
     "output_type": "execute_result"
    }
   ],
   "source": [
    "freq_table(ios_final, 12)"
   ]
  },
  {
   "cell_type": "markdown",
   "metadata": {},
   "source": [
    "We can also view the distribution on a bar chart, as it is often helpful to view the information visually. In order to do so, we would need to import the pandas and pyplot libraries and convert our dictionary to a dataframe."
   ]
  },
  {
   "cell_type": "code",
   "execution_count": 18,
   "metadata": {},
   "outputs": [
    {
     "data": {
      "text/plain": [
       "<matplotlib.axes._subplots.AxesSubplot at 0x1c07d0d7508>"
      ]
     },
     "execution_count": 18,
     "metadata": {},
     "output_type": "execute_result"
    },
    {
     "data": {
      "image/png": "[encoded data removed]",
      "text/plain": [
       "<Figure size 1080x360 with 1 Axes>"
      ]
     },
     "metadata": {
      "needs_background": "light"
     },
     "output_type": "display_data"
    }
   ],
   "source": [
    "import pandas as pd\n",
    "import matplotlib.pyplot as plt\n",
    "\n",
    "ios_gen_ft = freq_table(ios_final, 12)\n",
    "ios_gen_ft = pd.DataFrame(ios_gen_ft.items(), columns=['Genre', 'Percentage'])\n",
    "ios_gen_ft.plot(x='Genre', y='Percentage', kind='bar', figsize=(15,5), title='Genre Distribution for IOS Apps')"
   ]
  },
  {
   "cell_type": "markdown",
   "metadata": {},
   "source": [
    "Since the games genre accounts for the majority, it is difficult to see and interpret rest of the genres from this plot. One way to deal with such issues is to use a logarithmic scale on the vertical axis."
   ]
  },
  {
   "cell_type": "code",
   "execution_count": 19,
   "metadata": {},
   "outputs": [
    {
     "data": {
      "image/png": "[encoded data removed]",
      "text/plain": [
       "<Figure size 1080x360 with 1 Axes>"
      ]
     },
     "metadata": {
      "needs_background": "light"
     },
     "output_type": "display_data"
    }
   ],
   "source": [
    "ios_gen_ft.plot(x='Genre', y='Percentage', kind='bar', figsize=(15,5), title='Genre Distribution for IOS Apps (Logarithmic)')\n",
    "plt.yscale('log')"
   ]
  },
  {
   "cell_type": "markdown",
   "metadata": {},
   "source": [
    "The chart with the y-axis scaled logarithmically displays the non-game genres more clearly. We see quickly take a glance to see that the most common genres after games is the entertainment, photo&video, and education genres. However, we lose the information on specific percentages in this chart. \n",
    "\n",
    "Now let's use the second function, `freq_table_ordered`, that we created earlier, where we can sort the genres by specific percentages."
   ]
  },
  {
   "cell_type": "code",
   "execution_count": 20,
   "metadata": {},
   "outputs": [
    {
     "name": "stdout",
     "output_type": "stream",
     "text": [
      "Games : 58.16\n",
      "Entertainment : 7.88\n",
      "Photo & Video : 4.97\n",
      "Education : 3.66\n",
      "Social Networking : 3.29\n",
      "Shopping : 2.61\n",
      "Utilities : 2.51\n",
      "Sports : 2.14\n",
      "Music : 2.05\n",
      "Health & Fitness : 2.02\n",
      "Productivity : 1.74\n",
      "Lifestyle : 1.58\n",
      "News : 1.33\n",
      "Travel : 1.24\n",
      "Finance : 1.12\n",
      "Weather : 0.87\n",
      "Food & Drink : 0.81\n",
      "Reference : 0.56\n",
      "Business : 0.53\n",
      "Book : 0.43\n",
      "Navigation : 0.19\n",
      "Medical : 0.19\n",
      "Catalogs : 0.12\n"
     ]
    }
   ],
   "source": [
    "freq_table_ordered(ios_final, 12, True)"
   ]
  },
  {
   "cell_type": "markdown",
   "metadata": {},
   "source": [
    "Here we observe that over half of the free English apps (58.16%) are games. The gap between games and its closest competitor, entertainment with 7.88%, is significant with games holding more than six times the market space in the App Store. Next, we have photo & video (4.97%), education (3.66%) and social networking (3.29%), followed by shopping (2.61%), utilities (2.51%), sports (2.14%), music (2.05%) and health & fitness (2.02%). Rest of the genres are below 2 percent, with all thirteen of them accounting only around 11% of the market.\n",
    "\n",
    "The table indicates that the large majority of the apps in the App Store are designed for leisure activities, such as games, entertainment, photos/videos, social networking, sports and music. Apps that are designed for practical purposes do not even account for one quarter of the entire market.\n",
    "\n",
    "It is important to keep in mind that the ubiquity of leisure apps doest not imply they have the greatest number of users; although supply often correlates with demand, we should be cautious to reach such conclusions. \n",
    "\n",
    "Let's now take a look at the `Category` and `Genres` columns in the Android data set starting with the categories."
   ]
  },
  {
   "cell_type": "code",
   "execution_count": 21,
   "metadata": {},
   "outputs": [
    {
     "name": "stdout",
     "output_type": "stream",
     "text": [
      "FAMILY : 18.91\n",
      "GAME : 9.72\n",
      "TOOLS : 8.46\n",
      "BUSINESS : 4.59\n",
      "LIFESTYLE : 3.9\n",
      "PRODUCTIVITY : 3.89\n",
      "FINANCE : 3.7\n",
      "MEDICAL : 3.53\n",
      "SPORTS : 3.4\n",
      "PERSONALIZATION : 3.32\n",
      "COMMUNICATION : 3.24\n",
      "HEALTH_AND_FITNESS : 3.08\n",
      "PHOTOGRAPHY : 2.94\n",
      "NEWS_AND_MAGAZINES : 2.8\n",
      "SOCIAL : 2.66\n",
      "TRAVEL_AND_LOCAL : 2.34\n",
      "SHOPPING : 2.25\n",
      "BOOKS_AND_REFERENCE : 2.14\n",
      "DATING : 1.86\n",
      "VIDEO_PLAYERS : 1.79\n",
      "MAPS_AND_NAVIGATION : 1.4\n",
      "FOOD_AND_DRINK : 1.24\n",
      "EDUCATION : 1.16\n",
      "ENTERTAINMENT : 0.96\n",
      "LIBRARIES_AND_DEMO : 0.94\n",
      "AUTO_AND_VEHICLES : 0.93\n",
      "HOUSE_AND_HOME : 0.82\n",
      "WEATHER : 0.8\n",
      "EVENTS : 0.71\n",
      "PARENTING : 0.65\n",
      "ART_AND_DESIGN : 0.64\n",
      "COMICS : 0.62\n",
      "BEAUTY : 0.6\n"
     ]
    }
   ],
   "source": [
    "freq_table_ordered(android_final, 1, True)"
   ]
  },
  {
   "cell_type": "code",
   "execution_count": 22,
   "metadata": {},
   "outputs": [
    {
     "data": {
      "text/plain": [
       "<matplotlib.axes._subplots.AxesSubplot at 0x1c07de22dc8>"
      ]
     },
     "execution_count": 22,
     "metadata": {},
     "output_type": "execute_result"
    },
    {
     "data": {
      "image/png": "[encoded data removed]",
      "text/plain": [
       "<Figure size 1080x360 with 1 Axes>"
      ]
     },
     "metadata": {
      "needs_background": "light"
     },
     "output_type": "display_data"
    }
   ],
   "source": [
    "android_cat_ft = freq_table(android_final, 1)\n",
    "android_cat_ft = pd.DataFrame(android_cat_ft.items(), columns=['Category', 'Percentage'])\n",
    "android_cat_ft.plot(x='Category', y='Percentage', kind='bar', figsize=(15,5), title='Category Distribution for Android Apps')"
   ]
  },
  {
   "cell_type": "markdown",
   "metadata": {},
   "source": [
    "Upon reviewing the result, we observe a stark disparity between the games genre in the App Store and the games category in the Google Play. The former holds more than half of all genres whereas the latter does not even account for 10 percent. After this initial observation, we also realize that categories and genres in each store do not align very well. Two of the top three categories in the Android data set, family and tools, are entirely missing in the iOS data set. This is understandable as the methods used for collection, organization and presentation for each data set are different. We can, however, try to gain additional insights by looking into the `Genres` column in the hopes that it will complement the current table, or at least provide additional information for us to make better comparisons."
   ]
  },
  {
   "cell_type": "code",
   "execution_count": 23,
   "metadata": {},
   "outputs": [
    {
     "name": "stdout",
     "output_type": "stream",
     "text": [
      "Tools : 8.45\n",
      "Entertainment : 6.07\n",
      "Education : 5.35\n",
      "Business : 4.59\n",
      "Productivity : 3.89\n",
      "Lifestyle : 3.89\n",
      "Finance : 3.7\n",
      "Medical : 3.53\n",
      "Sports : 3.46\n",
      "Personalization : 3.32\n",
      "Communication : 3.24\n",
      "Action : 3.1\n",
      "Health & Fitness : 3.08\n",
      "Photography : 2.94\n",
      "News & Magazines : 2.8\n",
      "Social : 2.66\n",
      "Travel & Local : 2.32\n",
      "Shopping : 2.25\n",
      "Books & Reference : 2.14\n",
      "Simulation : 2.04\n",
      "Dating : 1.86\n",
      "Arcade : 1.85\n",
      "Video Players & Editors : 1.77\n",
      "Casual : 1.76\n",
      "Maps & Navigation : 1.4\n",
      "Food & Drink : 1.24\n",
      "Puzzle : 1.13\n",
      "Racing : 0.99\n",
      "Role Playing : 0.94\n",
      "Libraries & Demo : 0.94\n",
      "Auto & Vehicles : 0.93\n",
      "Strategy : 0.91\n",
      "House & Home : 0.82\n",
      "Weather : 0.8\n",
      "Events : 0.71\n",
      "Adventure : 0.68\n",
      "Comics : 0.61\n",
      "Beauty : 0.6\n",
      "Art & Design : 0.6\n",
      "Parenting : 0.5\n",
      "Card : 0.45\n",
      "Casino : 0.43\n",
      "Trivia : 0.42\n",
      "Educational;Education : 0.39\n",
      "Board : 0.38\n",
      "Educational : 0.37\n",
      "Education;Education : 0.34\n",
      "Word : 0.26\n",
      "Casual;Pretend Play : 0.24\n",
      "Music : 0.2\n",
      "Racing;Action & Adventure : 0.17\n",
      "Puzzle;Brain Games : 0.17\n",
      "Entertainment;Music & Video : 0.17\n",
      "Casual;Brain Games : 0.14\n",
      "Casual;Action & Adventure : 0.14\n",
      "Arcade;Action & Adventure : 0.12\n",
      "Action;Action & Adventure : 0.1\n",
      "Educational;Pretend Play : 0.09\n",
      "Simulation;Action & Adventure : 0.08\n",
      "Parenting;Education : 0.08\n",
      "Entertainment;Brain Games : 0.08\n",
      "Board;Brain Games : 0.08\n",
      "Parenting;Music & Video : 0.07\n",
      "Educational;Brain Games : 0.07\n",
      "Casual;Creativity : 0.07\n",
      "Art & Design;Creativity : 0.07\n",
      "Education;Pretend Play : 0.06\n",
      "Role Playing;Pretend Play : 0.05\n",
      "Education;Creativity : 0.05\n",
      "Role Playing;Action & Adventure : 0.03\n",
      "Puzzle;Action & Adventure : 0.03\n",
      "Entertainment;Creativity : 0.03\n",
      "Entertainment;Action & Adventure : 0.03\n",
      "Educational;Creativity : 0.03\n",
      "Educational;Action & Adventure : 0.03\n",
      "Education;Music & Video : 0.03\n",
      "Education;Brain Games : 0.03\n",
      "Education;Action & Adventure : 0.03\n",
      "Adventure;Action & Adventure : 0.03\n",
      "Video Players & Editors;Music & Video : 0.02\n",
      "Sports;Action & Adventure : 0.02\n",
      "Simulation;Pretend Play : 0.02\n",
      "Puzzle;Creativity : 0.02\n",
      "Music;Music & Video : 0.02\n",
      "Entertainment;Pretend Play : 0.02\n",
      "Casual;Education : 0.02\n",
      "Board;Action & Adventure : 0.02\n",
      "Video Players & Editors;Creativity : 0.01\n",
      "Trivia;Education : 0.01\n",
      "Travel & Local;Action & Adventure : 0.01\n",
      "Tools;Education : 0.01\n",
      "Strategy;Education : 0.01\n",
      "Strategy;Creativity : 0.01\n",
      "Strategy;Action & Adventure : 0.01\n",
      "Simulation;Education : 0.01\n",
      "Role Playing;Brain Games : 0.01\n",
      "Racing;Pretend Play : 0.01\n",
      "Puzzle;Education : 0.01\n",
      "Parenting;Brain Games : 0.01\n",
      "Music & Audio;Music & Video : 0.01\n",
      "Lifestyle;Pretend Play : 0.01\n",
      "Lifestyle;Education : 0.01\n",
      "Health & Fitness;Education : 0.01\n",
      "Health & Fitness;Action & Adventure : 0.01\n",
      "Entertainment;Education : 0.01\n",
      "Communication;Creativity : 0.01\n",
      "Comics;Creativity : 0.01\n",
      "Casual;Music & Video : 0.01\n",
      "Card;Action & Adventure : 0.01\n",
      "Books & Reference;Education : 0.01\n",
      "Art & Design;Pretend Play : 0.01\n",
      "Art & Design;Action & Adventure : 0.01\n",
      "Arcade;Pretend Play : 0.01\n",
      "Adventure;Education : 0.01\n"
     ]
    }
   ],
   "source": [
    "freq_table_ordered(android_final, 9, True)"
   ]
  },
  {
   "cell_type": "markdown",
   "metadata": {},
   "source": [
    "Since the dictionary above contains 114 items, we will limit it to genres that account for at least 3 percent. Also, we can present this in a pie chart, which would not have been possible with the bar chart above (android category distribution) given the large number of categories it had. It is important to keep in mind that the percentages in the pie chart are not absolute but relative; in other words, the percentages represent the share among the top 13 genres."
   ]
  },
  {
   "cell_type": "code",
   "execution_count": 24,
   "metadata": {},
   "outputs": [
    {
     "data": {
      "text/plain": [
       "<matplotlib.axes._subplots.AxesSubplot at 0x1c07e066348>"
      ]
     },
     "execution_count": 24,
     "metadata": {},
     "output_type": "execute_result"
    },
    {
     "data": {
      "image/png": "[encoded data removed]",
      "text/plain": [
       "<Figure size 576x864 with 1 Axes>"
      ]
     },
     "metadata": {},
     "output_type": "display_data"
    }
   ],
   "source": [
    "android_gen_ft = freq_table(android_final, 9)\n",
    "android_gen_ft = pd.Series(android_gen_ft).sort_values()\n",
    "android_gen_ft = android_gen_ft[android_gen_ft>3]\n",
    "android_gen_ft.plot.pie(figsize=(8,12), title='Category Distribution for Android Apps', autopct='%1.1f%%', startangle=90)"
   ]
  },
  {
   "cell_type": "markdown",
   "metadata": {},
   "source": [
    "It is not obvious from the tables and plots above how the category and genre columns are related to each other except that the genre table is more granular. It also does not seem to provide information to complement what we have already observed earlier. Furthermore, the granularity makes it difficult to make meaningful inferences and there appears to be conflicting information between the tables. For example, the entertainment for the categories table returns 0.96% whereas the entertainment for the genres table returns 6.07%. Perhaps this would be more understandable if the table with less entries had a higher portion of the percentages; after all there are more entries the percentages would have to be distributed, but in this case it appears to be the opposite.\n",
    "\n",
    "In any case, it would serve our goals better to continue with the categories rather than genres table, which matches closer to the iOS genre table in size and the degree of refinement.\n",
    "\n",
    "One last point before we move on is that upon examining the [Google Play website](https://play.google.com/store/apps/category/FAMILY) closer, we see that the Family category, in fact, subsumes games designed for children, which might partially explain the discrepancy between the popularity of games in iOS and Android data sets.\n",
    "\n",
    "So far, we have observed that the App Store is dominated by apps that we can label as for leisure, in particular games that account for more than half of the apps, whereas Google Play is more balanced and does not display such a prominent tilt towards any category. \n",
    "\n",
    "## Installation Numbers and Rating Count by Genre\n",
    "\n",
    "As we already mentioned, although the distribution of genres of available apps provides us with the supply side of the market, it does not necessarily fully correlate with the demand side. One way to approach this is to examine the number of downloads which reveals the user interest in the products. The Google Play data set contains a column named `Installs` which is exactly what we are looking for. However, such information is missing in the App Store data set. Observing the columns in this data set we see a column named `rating_count_tot`, which indicates the total number of ratings for a given app. This would presumably give us a smaller number of data points compared to installations as not every user who installs the app leaves a rating on the website, but it should suffice as a substitute to total number of downloads for our purposes.\n",
    "\n",
    "### Genre Rating Count on the App Store\n",
    "\n",
    "We can utilize the rating counts entered for each app to calculate the average number of user ratings 'per' app genre in the App Store. In other words, we could collate all apps in specific genres and add the rating count for each app to corresponding genre. However, this would give us total rating counts for genres, but since each genre has different number of apps, it would not give us the average rating count per app, which would require us to divide the numbers by total app counts within each genre."
   ]
  },
  {
   "cell_type": "code",
   "execution_count": 25,
   "metadata": {},
   "outputs": [
    {
     "data": {
      "text/plain": [
       "{'Productivity': 21028,\n",
       " 'Weather': 52279,\n",
       " 'Shopping': 26919,\n",
       " 'Reference': 74942,\n",
       " 'Finance': 31467,\n",
       " 'Music': 57326,\n",
       " 'Utilities': 18684,\n",
       " 'Travel': 28243,\n",
       " 'Social Networking': 71548,\n",
       " 'Sports': 23008,\n",
       " 'Health & Fitness': 23298,\n",
       " 'Games': 22788,\n",
       " 'Food & Drink': 33333,\n",
       " 'News': 21248,\n",
       " 'Book': 39758,\n",
       " 'Photo & Video': 28441,\n",
       " 'Entertainment': 14029,\n",
       " 'Business': 7491,\n",
       " 'Lifestyle': 16485,\n",
       " 'Education': 7003,\n",
       " 'Navigation': 86090,\n",
       " 'Medical': 612,\n",
       " 'Catalogs': 4004}"
      ]
     },
     "execution_count": 25,
     "metadata": {},
     "output_type": "execute_result"
    }
   ],
   "source": [
    "genres_ios = freq_table(ios_final, 12)\n",
    "\n",
    "genres_ratings_ios = {}\n",
    "\n",
    "for genre in genres_ios:\n",
    "    rating_total = 0\n",
    "    app_count = 0\n",
    "    for app in ios_final:\n",
    "        genre_app = app[12]\n",
    "        rating_count = float(app[6])\n",
    "        if genre_app == genre:\n",
    "            rating_total += rating_count\n",
    "            app_count += 1\n",
    "    rating_avg = int(rating_total / app_count)\n",
    "    genres_ratings_ios[genre] = rating_avg\n",
    "\n",
    "genres_ratings_ios\n",
    "\n",
    "\n",
    "# It is also possible to achieve this by utilizing pandas:\n",
    "#\n",
    "# ios_final_df = pd.read_csv('AppleStore.csv')\n",
    "# ios_gen_rc = ios_final_df[['prime_genre','rating_count_tot']]\n",
    "# ios_gen_rc_total = ios_gen_rc.drop_duplicates().groupby('prime_genre').agg(sum)\n",
    "# ios_gen_count = ios_gen_rc.drop_duplicates().groupby('prime_genre').count()\n",
    "# ios_gen_rc_per_genre = ios_gen_rc_tot/ios_gen_count\n",
    "#\n",
    "# (Note that the dataset has to be cleaned as we did earlier for the results to match)"
   ]
  },
  {
   "cell_type": "code",
   "execution_count": 26,
   "metadata": {},
   "outputs": [
    {
     "data": {
      "text/plain": [
       "<matplotlib.axes._subplots.AxesSubplot at 0x1c07e0bd1c8>"
      ]
     },
     "execution_count": 26,
     "metadata": {},
     "output_type": "execute_result"
    },
    {
     "data": {
      "image/png": "[encoded data removed]",
      "text/plain": [
       "<Figure size 1080x360 with 1 Axes>"
      ]
     },
     "metadata": {
      "needs_background": "light"
     },
     "output_type": "display_data"
    }
   ],
   "source": [
    "genres_ratings_ios_df = pd.DataFrame(genres_ratings_ios.items(), columns=['Genre', 'Rating Count Per App'])\n",
    "genres_ratings_ios_df.plot(x='Genre', y='Rating Count Per App', kind='bar', figsize=(15,5), title='Average Rating Count for IOS Genres')"
   ]
  },
  {
   "cell_type": "markdown",
   "metadata": {},
   "source": [
    "The highest number of user reviews per app is found in the navigation apps, followed by reference, social networking, music, weather, book, and food & drink. At this point it is important to consider if the data is heavily skewed towards a select few apps. Let's examine the navigation genre and obtain the apps that have over 10000 ratings to see the extent of their presence in the total rating count for all navigation apps."
   ]
  },
  {
   "cell_type": "code",
   "execution_count": 27,
   "metadata": {},
   "outputs": [
    {
     "name": "stdout",
     "output_type": "stream",
     "text": [
      "Waze - GPS Navigation, Maps & Real-time Traffic : 345046\n",
      "Google Maps - Navigation & Transit : 154911\n",
      "Total ratings in Navigation:  516542\n",
      "Rating percentage of top two apps for navigation: 96.78922527112994\n"
     ]
    }
   ],
   "source": [
    "total_nav_rating = 0\n",
    "for app in ios_final:\n",
    "    rating_count = int(app[6])\n",
    "    genre = app[12]\n",
    "    if genre == 'Navigation' and rating_count > 50000:\n",
    "        name = app[2]\n",
    "        print(name, ':', rating_count)\n",
    "    if genre == 'Navigation':\n",
    "        total_nav_rating += rating_count\n",
    "\n",
    "print('Total ratings in Navigation: ', total_nav_rating)\n",
    "print('Rating percentage of top two apps for navigation:', ((345046+154911)/total_nav_rating) * 100)"
   ]
  },
  {
   "cell_type": "markdown",
   "metadata": {},
   "source": [
    "Here we see that over 95% of all reviews for navigation genre are made for either Waze or Google Maps, which heavily skew the data. Unless the app developer is aspiring to compete with these two companies, the information obtained here, namely that navigation is the most popular genre, is not particularly useful. Similarly, social networking apps and music apps are dominated by a few multinational comapnies, such as Facebook, Pinterest, Skype, Pandora and Spotify, etc. \n",
    "\n",
    "While our goal here is to help potential app developers identify genres that seem to hold traction among users, we should also be mindful of the fact that large corporations tend to skew the data we have. Therefore, it might be useful to examine the top rating holders for the genres we are exploring. Since reference is the genre that contains the highest number of reviews after navigation, let's explore the top apps in the reference genre in terms of total rating count. However, before we do so, we can build a function to make the code reusable if we want to explore other genres."
   ]
  },
  {
   "cell_type": "code",
   "execution_count": 28,
   "metadata": {},
   "outputs": [
    {
     "name": "stdout",
     "output_type": "stream",
     "text": [
      "Bible : 985920\n",
      "Dictionary.com Dictionary & Thesaurus : 200047\n",
      "Total genre rating count: 1348958\n",
      "Rating percentage: 87.92 %\n"
     ]
    }
   ],
   "source": [
    "def top_ratings_percentage(dataset, genre, count_above, name_index, genre_index, rating_index):\n",
    "    count = 1\n",
    "    for g in genre:\n",
    "        total_genre_rating = 0\n",
    "        total_rating_chosen = 0\n",
    "        for entry in dataset:\n",
    "            rating_count = int(entry[rating_index])\n",
    "            entry_genre = entry[genre_index]\n",
    "            if entry_genre == g and rating_count > count_above:\n",
    "                name = entry[name_index]\n",
    "                print(name, ':', rating_count)\n",
    "                total_rating_chosen += rating_count\n",
    "            if entry_genre == g:\n",
    "                total_genre_rating += rating_count\n",
    "        print('Total genre rating count:', total_genre_rating)\n",
    "        print('Rating percentage:', round((total_rating_chosen / total_genre_rating) * 100,2), \"%\")\n",
    "        if count != len(genre): # for proper spacing in output\n",
    "            print('\\n')\n",
    "        count += 1\n",
    "\n",
    "top_ratings_percentage(ios_final, ['Reference'], 200000, 2, 12, 6)"
   ]
  },
  {
   "cell_type": "markdown",
   "metadata": {},
   "source": [
    "The outcome for reference seems slightly better as the top two apps in rating count, each of which have over 200,000 ratings, hold around 88% of the total ratings in the genre. Given the high competitive landscape in social networking and music genres, as well as the dominance of few global companies, it might serve use better to continue with the next three genres, weather, book, and food & drink."
   ]
  },
  {
   "cell_type": "code",
   "execution_count": 29,
   "metadata": {},
   "outputs": [
    {
     "name": "stdout",
     "output_type": "stream",
     "text": [
      "The Weather Channel: Forecast, Radar & Alerts : 495626\n",
      "The Weather Channel App for iPad – best local forecast, radar map, and storm tracking : 208648\n",
      "Total genre rating count: 1463837\n",
      "Rating percentage: 48.11 %\n",
      "\n",
      "\n",
      "Starbucks : 303856\n",
      "Domino's Pizza USA : 258624\n",
      "Total genre rating count: 866682\n",
      "Rating percentage: 64.9 %\n",
      "\n",
      "\n",
      "Kindle – Read eBooks, Magazines & Textbooks : 252076\n",
      "Audible – audio books, original series & podcasts : 105274\n",
      "Total genre rating count: 556619\n",
      "Rating percentage: 64.2 %\n"
     ]
    }
   ],
   "source": [
    "top_ratings_percentage(ios_final, ['Weather', 'Food & Drink'], 200000, 2, 12, 6)\n",
    "print('\\n')\n",
    "top_ratings_percentage(ios_final, ['Book'], 100000, 2, 12, 6)"
   ]
  },
  {
   "cell_type": "markdown",
   "metadata": {},
   "source": [
    "All three genres have considerably lower percentages for the top two apps compared to navigation and reference genres. The most favorable here seems to be the weather genre, as the top 2 apps account for less than 50% of all apps. It would be interesting to lower the number we set for counts to see how many apps and what percentage of those apps account for say, 120000 reviews instead of 200000 we used above."
   ]
  },
  {
   "cell_type": "code",
   "execution_count": 30,
   "metadata": {},
   "outputs": [
    {
     "name": "stdout",
     "output_type": "stream",
     "text": [
      "WeatherBug - Local Weather, Radar, Maps, Alerts : 188583\n",
      "The Weather Channel: Forecast, Radar & Alerts : 495626\n",
      "AccuWeather - Weather for Life : 144214\n",
      "MyRadar NOAA Weather Radar Forecast : 150158\n",
      "The Weather Channel App for iPad – best local forecast, radar map, and storm tracking : 208648\n",
      "Total genre rating count: 1463837\n",
      "Rating percentage: 81.1 %\n"
     ]
    }
   ],
   "source": [
    "top_ratings_percentage(ios_final, ['Weather'], 120000, 2, 12, 6)"
   ]
  },
  {
   "cell_type": "markdown",
   "metadata": {},
   "source": [
    "We see that there are five apps that have at least 120000 reviews and collectively they hold a little over 81% of the market, which is promising. This percentage is still much better than the percentages of top two apps in navigation with 97% and reference with 88% distribution and indicates a relative lack of select few company dominanating the landscape.\n",
    "\n",
    "The data above indicates a relative lack of select few companies dominating the landscape in the weather genre. This provides an opportunity for an app developer to be able to penetrate into the market and potentially generate enoguh interest in the genre to be profitable, therefore, it appears to be the most suitable genre based on our analysis. Finally, we can build a function that would reveal the average rating for all apps in a select genre."
   ]
  },
  {
   "cell_type": "code",
   "execution_count": 31,
   "metadata": {},
   "outputs": [
    {
     "name": "stdout",
     "output_type": "stream",
     "text": [
      "Weather : 3.48\n"
     ]
    }
   ],
   "source": [
    "def ratings_average (dataset, genre, name_index, genre_index, rating_index):\n",
    "    total_genre_rating = 0\n",
    "    count = 0\n",
    "    for entry in dataset:\n",
    "        rating = float(entry[rating_index])\n",
    "        entry_genre = entry[genre_index]\n",
    "        if entry_genre == genre:\n",
    "            total_genre_rating += rating\n",
    "            count += 1\n",
    "    print(genre, ':', round(total_genre_rating / count, 2))\n",
    "\n",
    "ratings_average(ios_final, 'Weather', 2, 12, 8)"
   ]
  },
  {
   "cell_type": "markdown",
   "metadata": {},
   "source": [
    "Here we see that in average weather apps have a rating of 3.48. This information is not particularly useful without knowing the ratings of apps in other genres. To contextualize, now let's compare that with the other top apps we discussed above."
   ]
  },
  {
   "cell_type": "code",
   "execution_count": 32,
   "metadata": {},
   "outputs": [
    {
     "name": "stdout",
     "output_type": "stream",
     "text": [
      "Reference : 3.67\n",
      "Music : 3.95\n",
      "Food & Drink : 3.63\n",
      "Book : 3.07\n",
      "Navigation : 3.83\n"
     ]
    }
   ],
   "source": [
    "top_rating_count_apps_ios = ['Navigation', 'Reference', 'Social networking', 'Music', 'Book', 'Food & Drink']\n",
    "for genre in genres_ios:\n",
    "    if genre in top_rating_count_apps_ios:\n",
    "        ratings_average(ios_final, genre, 2, 12, 8)"
   ]
  },
  {
   "cell_type": "markdown",
   "metadata": {},
   "source": [
    "Of the six top genres, we see that weather app has the second lowest rating, which further supports the idea that this might be a genre worth developing an app for given that user's have a low satisfaction rate. A new app in this genre has a higher potential to fill the gap in user expectations.\n",
    "\n",
    "### Installation Count on the Play Store\n",
    "\n",
    "Now we can examine the popularity of apps in Play Store by looking at the average number of downloads per app for each category. One challenge in this case is that the `Installs` column does not contain precise numeric values but ranges. Let's take a look at the existing ranges and the corresponding percentages for the Android data set."
   ]
  },
  {
   "cell_type": "code",
   "execution_count": 33,
   "metadata": {},
   "outputs": [
    {
     "name": "stdout",
     "output_type": "stream",
     "text": [
      "1,000,000+ : 15.73\n",
      "100,000+ : 11.55\n",
      "10,000,000+ : 10.55\n",
      "10,000+ : 10.2\n",
      "1,000+ : 8.39\n",
      "100+ : 6.92\n",
      "5,000,000+ : 6.83\n",
      "500,000+ : 5.56\n",
      "50,000+ : 4.77\n",
      "5,000+ : 4.51\n",
      "10+ : 3.54\n",
      "500+ : 3.25\n",
      "50,000,000+ : 2.3\n",
      "100,000,000+ : 2.13\n",
      "50+ : 1.92\n",
      "5+ : 0.79\n",
      "1+ : 0.51\n",
      "500,000,000+ : 0.27\n",
      "1,000,000,000+ : 0.23\n",
      "0+ : 0.05\n",
      "0 : 0.01\n"
     ]
    }
   ],
   "source": [
    "installs_android = freq_table_ordered(android_final, 5, True)"
   ]
  },
  {
   "cell_type": "markdown",
   "metadata": {},
   "source": [
    "There are 21 installation ranges including 0. As we don't need a high degree of precision for our purposes, using a range instead of specific numbers should not constitute an issue. However, we will need to convert these to numeric values to be able to perform computations (summation, division, etc.) by removing the non-numeric characters of plus and comma. We will leave the numbers as defined by their lower range and represent the categories in millions."
   ]
  },
  {
   "cell_type": "code",
   "execution_count": 34,
   "metadata": {},
   "outputs": [
    {
     "data": {
      "text/plain": [
       "{'ART_AND_DESIGN': 1.99,\n",
       " 'AUTO_AND_VEHICLES': 0.65,\n",
       " 'BEAUTY': 0.51,\n",
       " 'BOOKS_AND_REFERENCE': 8.77,\n",
       " 'BUSINESS': 1.71,\n",
       " 'COMICS': 0.82,\n",
       " 'COMMUNICATION': 38.46,\n",
       " 'DATING': 0.85,\n",
       " 'EDUCATION': 1.83,\n",
       " 'ENTERTAINMENT': 11.64,\n",
       " 'EVENTS': 0.25,\n",
       " 'FINANCE': 1.39,\n",
       " 'FOOD_AND_DRINK': 1.92,\n",
       " 'HEALTH_AND_FITNESS': 4.19,\n",
       " 'HOUSE_AND_HOME': 1.33,\n",
       " 'LIBRARIES_AND_DEMO': 0.64,\n",
       " 'LIFESTYLE': 1.44,\n",
       " 'GAME': 15.59,\n",
       " 'FAMILY': 3.7,\n",
       " 'MEDICAL': 0.12,\n",
       " 'SOCIAL': 23.25,\n",
       " 'SHOPPING': 7.04,\n",
       " 'PHOTOGRAPHY': 17.84,\n",
       " 'SPORTS': 3.64,\n",
       " 'TRAVEL_AND_LOCAL': 13.98,\n",
       " 'TOOLS': 10.8,\n",
       " 'PERSONALIZATION': 5.2,\n",
       " 'PRODUCTIVITY': 16.79,\n",
       " 'PARENTING': 0.54,\n",
       " 'WEATHER': 5.07,\n",
       " 'VIDEO_PLAYERS': 24.73,\n",
       " 'NEWS_AND_MAGAZINES': 9.55,\n",
       " 'MAPS_AND_NAVIGATION': 4.06}"
      ]
     },
     "execution_count": 34,
     "metadata": {},
     "output_type": "execute_result"
    }
   ],
   "source": [
    "categories_android = freq_table(android_final, 1)\n",
    "\n",
    "category_inst_android = {}\n",
    "\n",
    "for category in categories_android:\n",
    "    total_installs = 0\n",
    "    app_count = 0\n",
    "    for app in android_final:\n",
    "        category_app = app[1]\n",
    "        installs = app[5]\n",
    "        if category_app == category:\n",
    "            installs = installs.replace('+', '')\n",
    "            installs = installs.replace(',','')\n",
    "            total_installs += float(installs)\n",
    "            app_count += 1\n",
    "    avg_installs = round(((total_installs / app_count) / 1000000 ), 2) # in millions\n",
    "    category_inst_android[category] = avg_installs\n",
    "\n",
    "category_inst_android"
   ]
  },
  {
   "cell_type": "code",
   "execution_count": 35,
   "metadata": {},
   "outputs": [
    {
     "data": {
      "text/plain": [
       "(0, 42)"
      ]
     },
     "execution_count": 35,
     "metadata": {},
     "output_type": "execute_result"
    },
    {
     "data": {
      "image/png": "[encoded data removed]",
      "text/plain": [
       "<Figure size 1152x360 with 1 Axes>"
      ]
     },
     "metadata": {
      "needs_background": "light"
     },
     "output_type": "display_data"
    }
   ],
   "source": [
    "category_inst_android_df = pd.DataFrame(category_inst_android.items(), columns = ['Category', 'Total Installations (in millions)'])\n",
    "category_inst_android_df.plot(x='Category', y='Total Installations (in millions)', kind='bar',  figsize=(16,5), title='Installation Count for Android Categories')\n",
    "plt.ylim(0,42)"
   ]
  },
  {
   "cell_type": "markdown",
   "metadata": {},
   "source": [
    "Here we observe that communication apps have the highest number with over 38 million installations, followed by video players (25M), social (ca. 23M), photography (ca. 18M), productivity (ca. 17M), game (ca. 16M), and travel and local (ca. 14M).\n",
    "\n",
    "Once again, many of these figures are skewed significantly by a few apps produced by multinational companies. Let's start by looking at the category with highest number of downloads."
   ]
  },
  {
   "cell_type": "code",
   "execution_count": 36,
   "metadata": {},
   "outputs": [
    {
     "name": "stdout",
     "output_type": "stream",
     "text": [
      "WhatsApp Messenger : 1000000000\n",
      "Messenger – Text and Video Chat for Free : 1000000000\n",
      "Skype - free IM & video calls : 1000000000\n",
      "Google Chrome: Fast & Secure : 1000000000\n",
      "Gmail : 1000000000\n",
      "Hangouts : 1000000000\n",
      "Total genre rating count: 11036906201\n",
      "Rating percentage: 54.36 %\n"
     ]
    }
   ],
   "source": [
    "for app in android_final:\n",
    "    install = app[5].replace('+','')\n",
    "    install = install.replace(',','')\n",
    "    app[5] = install\n",
    "\n",
    "top_ratings_percentage(android_final, ['COMMUNICATION'], 500000000, 0, 1, 5)"
   ]
  },
  {
   "cell_type": "markdown",
   "metadata": {},
   "source": [
    "Here we observe that six apps account for over 54% of all downloads. It would be interesting to see how the other top downloaded categories fare:"
   ]
  },
  {
   "cell_type": "code",
   "execution_count": 37,
   "metadata": {},
   "outputs": [
    {
     "name": "stdout",
     "output_type": "stream",
     "text": [
      "YouTube : 1000000000\n",
      "Google Play Movies & TV : 1000000000\n",
      "MX Player : 500000000\n",
      "Total genre rating count: 3931731720\n",
      "Rating percentage: 63.59 %\n",
      "\n",
      "\n",
      "Google Photos : 1000000000\n",
      "Total genre rating count: 4656268815\n",
      "Rating percentage: 21.48 %\n",
      "\n",
      "\n",
      "Microsoft Word : 500000000\n",
      "Dropbox : 500000000\n",
      "Google Drive : 1000000000\n",
      "Google Calendar : 500000000\n",
      "Cloud Print : 500000000\n",
      "Total genre rating count: 5791629314\n",
      "Rating percentage: 51.8 %\n",
      "\n",
      "\n",
      "Candy Crush Saga : 500000000\n",
      "Subway Surfers : 1000000000\n",
      "Pou : 500000000\n",
      "My Talking Tom : 500000000\n",
      "Temple Run 2 : 500000000\n",
      "Total genre rating count: 13436869450\n",
      "Rating percentage: 22.33 %\n",
      "\n",
      "\n",
      "Facebook : 1000000000\n",
      "Google+ : 1000000000\n",
      "Instagram : 1000000000\n",
      "Total genre rating count: 5487861902\n",
      "Rating percentage: 54.67 %\n",
      "\n",
      "\n",
      "Maps - Navigate & Explore : 1000000000\n",
      "Google Street View : 1000000000\n",
      "Total genre rating count: 2894704086\n",
      "Rating percentage: 69.09 %\n"
     ]
    }
   ],
   "source": [
    "top_ratings_percentage(android_final, ['VIDEO_PLAYERS', 'PHOTOGRAPHY', 'PRODUCTIVITY', 'GAME'], 100000000, 0, 1, 5)\n",
    "print('\\n')\n",
    "top_ratings_percentage(android_final, ['SOCIAL', 'TRAVEL_AND_LOCAL'], 500000000, 0, 1, 5)"
   ]
  },
  {
   "cell_type": "markdown",
   "metadata": {},
   "source": [
    "The video players category and the social category each holding 3 apps taking over 63% and 54% of the market share, respectively. The photography category contains a single app with over 20% of all downloads. In productivity category and game category we see 5 apps each holding over 51% and 22% of the market, and finally, the travel and local category has 2 apps accounting for 69% of all downloads within that category. \n",
    "\n",
    "Looking at these numbers we see that the games and the productivity categories seem to have lower barrier to entry for new apps. The games category is particularly appealing with 5 apps holding just over one fifth of the market. Communications is another category that we examined earlier that might have potential. In the App Store we concluded that the weather category will likely be suitable for our purposes, so we might want to look at the distribution in that genre in the Play Store."
   ]
  },
  {
   "cell_type": "code",
   "execution_count": 38,
   "metadata": {},
   "outputs": [
    {
     "name": "stdout",
     "output_type": "stream",
     "text": [
      "The Weather Channel: Rain Forecast & Storm Alerts : 50000000\n",
      "AccuWeather: Daily Forecast & Live Weather Reports : 50000000\n",
      "GO Weather - Widget, Theme, Wallpaper, Efficient : 50000000\n",
      "Weather & Clock Widget for Android : 50000000\n",
      "Total genre rating count: 360288520\n",
      "Rating percentage: 55.51 %\n"
     ]
    }
   ],
   "source": [
    "top_ratings_percentage(android_final, ['WEATHER'], 10000000, 0, 1, 5)"
   ]
  },
  {
   "cell_type": "markdown",
   "metadata": {},
   "source": [
    "Here we have 4 apps with over 55% of all downloads, which is perhaps not as promising as the games, productivity and communications categories, yet still better than the video players, social, photography, and travel and local categories.\n",
    "\n",
    "If we would like to target both the Android and the iOS markets we might want to entertain the idea of combining categories/genres, which would target both markets to some degree and also provide a more refreshing look and functionality which might appeal to new users. This way we would target both stores without excluding a potential segment in either store and bring in a potentially novel idea. For instance, given our observations on both data sets perhaps there would be a way to integrate the game and weather categories, our top categories for each store, to appeal potential users. The same could hold true for weather and communication categories, and the possibilities for combining genres/categories in novel ways would have to be explored by the developer based on abilities, creativity and personal preferrence.\n",
    "\n",
    "## Conclusion\n",
    "\n",
    "In this project, we analyzed data utilizing the Android and iOS mobile app data sets publicly available on the [Kaggle](https://www.kaggle.com/) website in order to understand the traction and popularity of free apps based on a number of criteria, including genre distribution, installation numbers and review counts. The main goal of the analysis was to help a potential app developer to decide on the type of app they might want to develop, especially with the idea of revenue generation via advertisements for free apps, which for the most part depends on popularity and number of active users.\n",
    "\n",
    "In conclusion, we determined that different genres (weather for the iOS market and games for the Android market) seem more suitable for each store, although we tried to emphasize other potential genres, such as communications and productivity, besides our initial recommendation. We proposed the idea of creating an app combining two genres for developers who would prefer to target both the Android and iOS landscape, which would not only cover both markets but also introduce a novel idea in combining different genres in the hopes of appealing to potential users."
   ]
  }
 ],
 "metadata": {
  "kernelspec": {
   "display_name": "Python 3",
   "language": "python",
   "name": "python3"
  },
  "language_info": {
   "codemirror_mode": {
    "name": "ipython",
    "version": 3
   },
   "file_extension": ".py",
   "mimetype": "text/x-python",
   "name": "python",
   "nbconvert_exporter": "python",
   "pygments_lexer": "ipython3",
   "version": "3.7.6"
  }
 },
 "nbformat": 4,
 "nbformat_minor": 4
}
